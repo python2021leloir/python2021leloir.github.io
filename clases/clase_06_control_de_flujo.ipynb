{
 "metadata": {
  "language_info": {
   "codemirror_mode": {
    "name": "ipython",
    "version": 3
   },
   "file_extension": ".py",
   "mimetype": "text/x-python",
   "name": "python",
   "nbconvert_exporter": "python",
   "pygments_lexer": "ipython3",
   "version": "3.9.0-final"
  },
  "orig_nbformat": 2,
  "kernelspec": {
   "name": "python3",
   "display_name": "Python 3.9.0 64-bit ('venv')",
   "metadata": {
    "interpreter": {
     "hash": "7341b9afafe5a943debca8c76d79d051c693ad015f257acb1152bde5799729e2"
    }
   }
  }
 },
 "nbformat": 4,
 "nbformat_minor": 2,
 "cells": [
  {
   "source": [
    "# Control de flujo\n",
    "\n",
    "[![Open In Colab](https://colab.research.google.com/assets/colab-badge.svg)](https://colab.research.google.com/github/Ferorti/escuela2021/blob/main/clases/clase_06_control_de_flujo.ipynb)\n",
    "\n",
    "## Secciones\n",
    "- ¿Cómo se controla el flujo de ejecución en python?\n",
    "- Ejecución condicional\n",
    "- Repetición de código"
   ],
   "cell_type": "markdown",
   "metadata": {}
  },
  {
   "source": [
    "## ¿Cómo se controla el flujo de ejecución en python?\n",
    "\n",
    "El flujo de ejecución es la secuencia ordenada precisa de instrucciones de código que se\n",
    "ejecutan mientras un programa está en funcionamiento.\n",
    "\n",
    "Es posible escribir programas que sea una secuencia lineal de instrucciones."
   ],
   "cell_type": "markdown",
   "metadata": {}
  },
  {
   "source": [
    "![](../images/svg/linear_flow.svg)"
   ],
   "cell_type": "markdown",
   "metadata": {}
  },
  {
   "source": [
    "Pero, lo más común es que cualquier programa sea algo más parecido a esto...\n",
    "\n",
    "![](../images/svg/non_linear_flow.svg)"
   ],
   "cell_type": "markdown",
   "metadata": {}
  },
  {
   "cell_type": "code",
   "execution_count": null,
   "metadata": {},
   "outputs": [],
   "source": [
    "Hay dos mecanismos generales para guiar el flujo de ejecución de un programa.\n",
    "\n",
    "- La ejecución condicional\n",
    "- Bucles o ciclos para repetir código."
   ]
  },
  {
   "source": [
    "## Ejecución condicional\n",
    "\n",
    "La palabra clave __if__ permite la ejecución de cierta parte de código:\n",
    "\n",
    "\n",
    "```python\n",
    "if condición:\n",
    "    código si se cumple la condición\n",
    "else:\n",
    "    código si no se cumple la condición\n",
    "```"
   ],
   "cell_type": "markdown",
   "metadata": {}
  },
  {
   "cell_type": "code",
   "execution_count": 10,
   "metadata": {},
   "outputs": [
    {
     "output_type": "stream",
     "name": "stdout",
     "text": [
      "10.05 no es un número entero\n"
     ]
    }
   ],
   "source": [
    "n = 10.05\n",
    "\n",
    "if n == int(n) :\n",
    "    print(n, \"es un número entero\")\n",
    "else:\n",
    "    print(n, \"no es un número entero\")"
   ]
  },
  {
   "source": [
    "La rama de ejecución \"else:\" puede no estar presente si no es necesaria."
   ],
   "cell_type": "markdown",
   "metadata": {}
  },
  {
   "cell_type": "code",
   "execution_count": 14,
   "metadata": {},
   "outputs": [],
   "source": [
    "n = 10.05\n",
    "if n == int(n) :\n",
    "    print(n, \"es un número entero\")"
   ]
  },
  {
   "source": [
    "Para completar, escribir un programa que elija un número al azar entre 0 y 1 y que imprima \"es mayor a 0.5\" o \"no es mayor a 0.5\" según corresponda. "
   ],
   "cell_type": "markdown",
   "metadata": {}
  },
  {
   "cell_type": "code",
   "execution_count": 2,
   "metadata": {},
   "outputs": [
    {
     "output_type": "stream",
     "name": "stdout",
     "text": [
      "0.8686256651297604\n"
     ]
    }
   ],
   "source": [
    "from random import random\n",
    "a = random()\n",
    "print(a)"
   ]
  },
  {
   "source": [
    "## Repetición de código    "
   ],
   "cell_type": "markdown",
   "metadata": {}
  },
  {
   "source": [
    "Con la palabra clave __for__ vimos como repetir una tarea para cada elemento de una lista o diccionario."
   ],
   "cell_type": "markdown",
   "metadata": {}
  },
  {
   "cell_type": "code",
   "execution_count": 29,
   "metadata": {},
   "outputs": [
    {
     "output_type": "stream",
     "name": "stdout",
     "text": [
      "En mi bolsillo siempre llevo las llaves\nEn mi bolsillo siempre llevo una billetera\nEn mi bolsillo siempre llevo muchas monedas\nEn mi bolsillo siempre llevo un pendrive\n"
     ]
    }
   ],
   "source": [
    "bolsillo = ['las llaves', 'una billetera', 'muchas monedas', 'un pendrive']\n",
    "\n",
    "for cosa in bolsillo:\n",
    "    print(\"En mi bolsillo siempre llevo\", cosa)"
   ]
  },
  {
   "source": [
    "La función __range()__ genera un rando de número enteros desde cero al un número que se quiera.\n",
    "\n",
    "Es función se puede usar en un __for__ para repetir una tarea una cierta cantidad de veces."
   ],
   "cell_type": "markdown",
   "metadata": {}
  },
  {
   "cell_type": "code",
   "execution_count": 33,
   "metadata": {},
   "outputs": [
    {
     "output_type": "stream",
     "name": "stdout",
     "text": [
      "Repitiendo tarea [ 0 ]\nRepitiendo tarea [ 1 ]\nRepitiendo tarea [ 2 ]\nRepitiendo tarea [ 3 ]\nRepitiendo tarea [ 4 ]\n"
     ]
    }
   ],
   "source": [
    "for i in range(5):\n",
    "    print(\"Repitiendo tarea [\", i, ']')"
   ]
  },
  {
   "source": [
    "Otra forma de repetir código es con la palabra clave __while__, que permite ejecutar código mientras se cumple cierta condición."
   ],
   "cell_type": "markdown",
   "metadata": {}
  },
  {
   "cell_type": "code",
   "execution_count": 4,
   "metadata": {},
   "outputs": [
    {
     "output_type": "stream",
     "name": "stdout",
     "text": [
      "El valor actual de a es 4\nEl valor actual de a es 3\nEl valor actual de a es 2\nEl valor actual de a es 1\n"
     ]
    }
   ],
   "source": [
    "a = 4\n",
    "while a >= 1:\n",
    "    print(\"El valor actual de a es\", a)\n",
    "    a -= 1"
   ]
  },
  {
   "source": [
    "Para completar, escribir una función que busque en un lista de caracteres, la posición del primer caracter que sea una vocal mayúscula o un número.\n"
   ],
   "cell_type": "markdown",
   "metadata": {}
  },
  {
   "cell_type": "code",
   "execution_count": null,
   "metadata": {},
   "outputs": [],
   "source": [
    "lista_de_prueba = ['a', 'b', 's', 'X', '5', 'a', 'E']\n"
   ]
  }
 ]
}