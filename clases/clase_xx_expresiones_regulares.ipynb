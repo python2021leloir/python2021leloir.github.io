{
  "nbformat": 4,
  "nbformat_minor": 0,
  "metadata": {
    "colab": {
      "name": "clase_xx_expresiones_regulares.ipynb",
      "provenance": [],
      "collapsed_sections": [],
      "authorship_tag": "ABX9TyN1D86L+JVbBLyoE/qwMm7y",
      "include_colab_link": true
    },
    "kernelspec": {
      "name": "python3",
      "display_name": "Python 3"
    }
  },
  "cells": [
    {
      "cell_type": "markdown",
      "metadata": {
        "id": "view-in-github",
        "colab_type": "text"
      },
      "source": [
        "<a href=\"https://colab.research.google.com/github/Ferorti/escuela2021/blob/main/clases/clase_xx_expresiones_regulares.ipynb\" target=\"_parent\"><img src=\"https://colab.research.google.com/assets/colab-badge.svg\" alt=\"Open In Colab\"/></a>"
      ]
    },
    {
      "cell_type": "markdown",
      "metadata": {
        "id": "VtmrzE4Jrxfk"
      },
      "source": [
        "# ¿Qué son las Expresiones regulares?"
      ]
    },
    {
      "cell_type": "markdown",
      "metadata": {
        "id": "7DhS5EaGr4ZL"
      },
      "source": [
        "Las expresiones regulares son patrones utilizados para encontrar una determinada combinación de caracteres dentro de una cadena de texto proporcionando una manera muy flexible de hacer la búsqueda y reconocer cadenas de texto.\r\n",
        "\r\n",
        "Ejemplo clásico es que estamos leyendo un PDF y buscamos una palabra que lleva acento con y si él y se obtinen los mismos resultados. (cámara y camara) "
      ]
    },
    {
      "cell_type": "markdown",
      "metadata": {
        "id": "9Wtu4Y4zuGFi"
      },
      "source": [
        "# Expresiones regulares en Python"
      ]
    },
    {
      "cell_type": "markdown",
      "metadata": {
        "id": "D89ONEKMuMcN"
      },
      "source": [
        "En python la clase que se utiliza para buscar expresiones regulares en textos es ***re*** y para ello se utilizan las siguientes líneas de código:"
      ]
    },
    {
      "cell_type": "code",
      "metadata": {
        "colab": {
          "base_uri": "https://localhost:8080/"
        },
        "id": "mKc2gDYDuscm",
        "outputId": "0b93797b-f728-4d55-d1f4-e2fe800b1f97"
      },
      "source": [
        "# importar la biblioteca\r\n",
        "import re\r\n",
        "# compilar la expresión regular, es el texto que se pasa como parámetro a la función compile\r\n",
        "rege1 = re.compile('aaa')\r\n",
        "#texto donde deseo hacer la búsqueda\r\n",
        "texto = 'aaatttaaatttcccgggAAATTTCCCDDD'\r\n",
        "# buscar las coincidencias en un texto que se pasa como parámetro a la función search\r\n",
        "#el objeto match tiene el patrón, la cadena y la posición de inicio - fin de la coincidencia\r\n",
        "match = rege1.search(texto)\r\n",
        "# imprimir las coincidencias\r\n",
        "print(match.group())"
      ],
      "execution_count": 1,
      "outputs": [
        {
          "output_type": "stream",
          "text": [
            "aaa\n"
          ],
          "name": "stdout"
        }
      ]
    },
    {
      "cell_type": "markdown",
      "metadata": {
        "id": "WG_KqwVeGTEm"
      },
      "source": [
        "# Usos de la biblioteca ***re***"
      ]
    },
    {
      "cell_type": "markdown",
      "metadata": {
        "id": "Wj6SP6cHFPr8"
      },
      "source": [
        "**Buscar en que posición está una coincidencia**"
      ]
    },
    {
      "cell_type": "code",
      "metadata": {
        "colab": {
          "base_uri": "https://localhost:8080/"
        },
        "id": "Z5B4pr-HGk4p",
        "outputId": "e2c38287-2c7a-4769-8783-1362a26770d2"
      },
      "source": [
        "print('Encontrada \"{}\"\\nen \"{}\"\\ninicio {} fin {} (\"{}\")'.format(\r\n",
        "    match.re.pattern, match.string, match.start(), match.end(), texto[match.start():match.end()]))"
      ],
      "execution_count": 2,
      "outputs": [
        {
          "output_type": "stream",
          "text": [
            "Encontrada \"aaa\"\n",
            "en \"aaatttaaatttcccgggAAATTTCCCDDD\"\n",
            "inicio 0 fin 3 (\"aaa\")\n"
          ],
          "name": "stdout"
        }
      ]
    },
    {
      "cell_type": "markdown",
      "metadata": {
        "id": "m2SehCT0GdCC"
      },
      "source": [
        "**Acotar la búsqueda**"
      ]
    },
    {
      "cell_type": "code",
      "metadata": {
        "colab": {
          "base_uri": "https://localhost:8080/"
        },
        "id": "aXVtXDhBINxJ",
        "outputId": "23ea600f-7336-49b7-f332-fac6701a9dfc"
      },
      "source": [
        "# match2 = rege1.search(texto, 4)\r\n",
        "\r\n",
        "match2 = rege1.search(texto, 4, 25)\r\n",
        "if match2 != None:\r\n",
        "    print('Encontrada \"{}\"\\nen \"{}\"\\ninicio {} fin {} (\"{}\")'.format(\r\n",
        "        match2.re.pattern, match2.string, match2.start(), match2.end(), texto[match2.start():match2.end()]))"
      ],
      "execution_count": 3,
      "outputs": [
        {
          "output_type": "stream",
          "text": [
            "Encontrada \"aaa\"\n",
            "en \"aaatttaaatttcccgggAAATTTCCCDDD\"\n",
            "inicio 6 fin 9 (\"aaa\")\n"
          ],
          "name": "stdout"
        }
      ]
    },
    {
      "cell_type": "code",
      "metadata": {
        "colab": {
          "base_uri": "https://localhost:8080/"
        },
        "id": "9bROsv2BNb9d",
        "outputId": "848c37cc-bb39-4b5e-d249-3b34735435b4"
      },
      "source": [
        "match3 = rege1.search(texto, 15, 30)\r\n",
        "if match3 != None:\r\n",
        "    print('Encontrada \"{}\"\\nen \"{}\"\\ninicio {} fin {} (\"{}\")'.format(\r\n",
        "        match3.re.pattern, match3.string, match3.start(), match3.end(), texto[match3.start():match3.end()]))\r\n",
        "else:\r\n",
        "    print('No encontrada')  "
      ],
      "execution_count": 4,
      "outputs": [
        {
          "output_type": "stream",
          "text": [
            "No encontrada\n"
          ],
          "name": "stdout"
        }
      ]
    },
    {
      "cell_type": "markdown",
      "metadata": {
        "id": "6OYrmYtQFhF7"
      },
      "source": [
        "**No diferenciar entre mayúsculas y minúsculas**"
      ]
    },
    {
      "cell_type": "code",
      "metadata": {
        "colab": {
          "base_uri": "https://localhost:8080/"
        },
        "id": "AlOjIq_RE2eI",
        "outputId": "4548b1c9-6f18-45a7-89c9-211dee20502d"
      },
      "source": [
        "rege2 = re.compile('aaa', re.IGNORECASE)\r\n",
        "\r\n",
        "match4 = rege2.search(texto, 15, 30)\r\n",
        "if match4 != None:\r\n",
        "    print('Encontrada \"{}\"\\nen \"{}\"\\ninicio {} fin {} (\"{}\")'.format(\r\n",
        "        match4.re.pattern, match4.string, match4.start(), match4.end(), texto[match4.start():match4.end()]))\r\n",
        "else:\r\n",
        "    print('No encontrada')  \r\n"
      ],
      "execution_count": 5,
      "outputs": [
        {
          "output_type": "stream",
          "text": [
            "Encontrada \"aaa\"\n",
            "en \"aaatttaaatttcccgggAAATTTCCCDDD\"\n",
            "inicio 18 fin 21 (\"AAA\")\n"
          ],
          "name": "stdout"
        }
      ]
    },
    {
      "cell_type": "markdown",
      "metadata": {
        "id": "Ryx2JWsRFc7L"
      },
      "source": [
        "**buscar todas las coincidencias en el texto**"
      ]
    },
    {
      "cell_type": "code",
      "metadata": {
        "colab": {
          "base_uri": "https://localhost:8080/"
        },
        "id": "6VGRU5I4GMIS",
        "outputId": "be896b2d-0be2-4f6e-b9a1-5507e601a2b1"
      },
      "source": [
        "match5 = rege2.findall(texto)\r\n",
        "print(match5)"
      ],
      "execution_count": 6,
      "outputs": [
        {
          "output_type": "stream",
          "text": [
            "['aaa', 'aaa', 'AAA']\n"
          ],
          "name": "stdout"
        }
      ]
    },
    {
      "cell_type": "markdown",
      "metadata": {
        "id": "5gpHMYCTFokb"
      },
      "source": [
        "**Dividir texto con una expresion regular**"
      ]
    },
    {
      "cell_type": "code",
      "metadata": {
        "colab": {
          "base_uri": "https://localhost:8080/"
        },
        "id": "vrv266iuGHo6",
        "outputId": "1c673ac4-c889-4c4e-ea07-b65c31c4a746"
      },
      "source": [
        "match6 = rege2.split(texto)\r\n",
        "print(texto)\r\n",
        "print(match6)"
      ],
      "execution_count": 7,
      "outputs": [
        {
          "output_type": "stream",
          "text": [
            "aaatttaaatttcccgggAAATTTCCCDDD\n",
            "['', 'ttt', 'tttcccggg', 'TTTCCCDDD']\n"
          ],
          "name": "stdout"
        }
      ]
    },
    {
      "cell_type": "markdown",
      "metadata": {
        "id": "wcPGNzQwAyhw"
      },
      "source": [
        "**Subtituir texto con expresion regular**"
      ]
    },
    {
      "cell_type": "code",
      "metadata": {
        "colab": {
          "base_uri": "https://localhost:8080/"
        },
        "id": "2-UhZzcwGWl3",
        "outputId": "69e939c6-7610-4376-c13b-d114b6c8f74a"
      },
      "source": [
        "# match7 = rege2.sub('---', texto) #todas las sustituciones\r\n",
        "# match7 = rege2.sub('---', texto, 0) #todas las sustituciones\r\n",
        "# match7 = rege2.sub('---', texto, 1) #solo la primera se sustituye\r\n",
        "# match7 = rege2.sub('---', texto, 2) #solo la primera y la segunda se sustituyen\r\n",
        "\r\n",
        "match7 = rege2.sub('---', texto)\r\n",
        "print(texto)\r\n",
        "print(match7)"
      ],
      "execution_count": 8,
      "outputs": [
        {
          "output_type": "stream",
          "text": [
            "aaatttaaatttcccgggAAATTTCCCDDD\n",
            "---ttt---tttcccggg---TTTCCCDDD\n"
          ],
          "name": "stdout"
        }
      ]
    },
    {
      "cell_type": "markdown",
      "metadata": {
        "id": "sVPoZaESr2CS"
      },
      "source": [
        "# Caracteres Especiales"
      ]
    },
    {
      "cell_type": "markdown",
      "metadata": {
        "id": "v-mCZvfK3wGg"
      },
      "source": [
        "**Utilizaré la siguiente función para imprimir las coincidencias y textos**"
      ]
    },
    {
      "cell_type": "code",
      "metadata": {
        "id": "-EbVe9OA35dL"
      },
      "source": [
        "def imprimir_coincidencias(reg, lista):\r\n",
        "    exp_coincidencia = []\r\n",
        "    texto_coincidencia = []\r\n",
        "    for texto in lista:  \r\n",
        "        match = reg.search(texto)\r\n",
        "        if match:\r\n",
        "            exp_coincidencia.append(match.group())\r\n",
        "            texto_coincidencia.append(texto)\r\n",
        "    print(lista)\r\n",
        "    print(texto_coincidencia)  \r\n",
        "    print(exp_coincidencia)"
      ],
      "execution_count": 9,
      "outputs": []
    },
    {
      "cell_type": "markdown",
      "metadata": {
        "id": "a5_TzAUvsxEM"
      },
      "source": [
        "**\".\"  Cualquier caracter excepto el fin de linea**"
      ]
    },
    {
      "cell_type": "code",
      "metadata": {
        "colab": {
          "base_uri": "https://localhost:8080/"
        },
        "id": "7lrA81KvtNjS",
        "outputId": "5ac26e1c-b578-45f4-9e48-2002f84f7906"
      },
      "source": [
        "a = [\"ACT\", \"ACTG\", \"ACTGAT\", \"GGAATT\", \"ATGATG\", \"ATACTAGG\"]\r\n",
        "reg1 = re.compile(\"ACT.\")\r\n",
        "\r\n",
        "imprimir_coincidencias(reg1, a)"
      ],
      "execution_count": 10,
      "outputs": [
        {
          "output_type": "stream",
          "text": [
            "['ACT', 'ACTG', 'ACTGAT', 'GGAATT', 'ATGATG', 'ATACTAGG']\n",
            "['ACTG', 'ACTGAT', 'ATACTAGG']\n",
            "['ACTG', 'ACTG', 'ACTA']\n"
          ],
          "name": "stdout"
        }
      ]
    },
    {
      "cell_type": "markdown",
      "metadata": {
        "id": "P89GJ-0-2FTT"
      },
      "source": [
        "**\"^\" Inicio de línea**"
      ]
    },
    {
      "cell_type": "code",
      "metadata": {
        "colab": {
          "base_uri": "https://localhost:8080/"
        },
        "id": "3c9A7KNK2L6d",
        "outputId": "5338b87d-6ed7-4d0e-d702-bd5b7f1362d4"
      },
      "source": [
        "reg2 = re.compile(\"^ACT.\")\r\n",
        "imprimir_coincidencias(reg2, a)\r\n"
      ],
      "execution_count": 11,
      "outputs": [
        {
          "output_type": "stream",
          "text": [
            "['ACT', 'ACTG', 'ACTGAT', 'GGAATT', 'ATGATG', 'ATACTAGG']\n",
            "['ACTG', 'ACTGAT']\n",
            "['ACTG', 'ACTG']\n"
          ],
          "name": "stdout"
        }
      ]
    },
    {
      "cell_type": "markdown",
      "metadata": {
        "id": "1jzQeUos4rS8"
      },
      "source": [
        "**\"$\" Fin de línea**"
      ]
    },
    {
      "cell_type": "code",
      "metadata": {
        "colab": {
          "base_uri": "https://localhost:8080/"
        },
        "id": "LZ419w2W41po",
        "outputId": "26e19b70-b08f-4d0d-dad6-b4e354879700"
      },
      "source": [
        "reg3 = re.compile(\"^ACT.$\")\r\n",
        "imprimir_coincidencias(reg3, a)"
      ],
      "execution_count": 12,
      "outputs": [
        {
          "output_type": "stream",
          "text": [
            "['ACT', 'ACTG', 'ACTGAT', 'GGAATT', 'ATGATG', 'ATACTAGG']\n",
            "['ACTG']\n",
            "['ACTG']\n"
          ],
          "name": "stdout"
        }
      ]
    },
    {
      "cell_type": "markdown",
      "metadata": {
        "id": "sLkiEllt5RAa"
      },
      "source": [
        "**\"\\*\" La expresion que se antepone se repite 0 o más veces**"
      ]
    },
    {
      "cell_type": "code",
      "metadata": {
        "colab": {
          "base_uri": "https://localhost:8080/"
        },
        "id": "Ml7h_5a254yb",
        "outputId": "e7193189-b542-4313-f1f4-0ccc62852b01"
      },
      "source": [
        "reg4 = re.compile(\"ACT.*\")\r\n",
        "imprimir_coincidencias(reg4, a)"
      ],
      "execution_count": 13,
      "outputs": [
        {
          "output_type": "stream",
          "text": [
            "['ACT', 'ACTG', 'ACTGAT', 'GGAATT', 'ATGATG', 'ATACTAGG']\n",
            "['ACT', 'ACTG', 'ACTGAT', 'ATACTAGG']\n",
            "['ACT', 'ACTG', 'ACTGAT', 'ACTAGG']\n"
          ],
          "name": "stdout"
        }
      ]
    },
    {
      "cell_type": "markdown",
      "metadata": {
        "id": "BNbEw53w6Kow"
      },
      "source": [
        "**\"+\" La expresión que se antepone se repite 1 o más veces**"
      ]
    },
    {
      "cell_type": "code",
      "metadata": {
        "colab": {
          "base_uri": "https://localhost:8080/"
        },
        "id": "et705X4d6mmY",
        "outputId": "599985c2-aa14-42ec-c3c8-a7d08bde8e60"
      },
      "source": [
        "reg5 = re.compile(\"ACT.+\")\r\n",
        "imprimir_coincidencias(reg5, a)"
      ],
      "execution_count": 14,
      "outputs": [
        {
          "output_type": "stream",
          "text": [
            "['ACT', 'ACTG', 'ACTGAT', 'GGAATT', 'ATGATG', 'ATACTAGG']\n",
            "['ACTG', 'ACTGAT', 'ATACTAGG']\n",
            "['ACTG', 'ACTGAT', 'ACTAGG']\n"
          ],
          "name": "stdout"
        }
      ]
    },
    {
      "cell_type": "markdown",
      "metadata": {
        "id": "jb2n8ce26tTj"
      },
      "source": [
        "**\"?\" la expresión que se antepone se repite 0 o 1 vez**"
      ]
    },
    {
      "cell_type": "code",
      "metadata": {
        "colab": {
          "base_uri": "https://localhost:8080/"
        },
        "id": "C62Jpfv_618o",
        "outputId": "2521dcc9-e0cf-42b2-ce2a-8389c31575a6"
      },
      "source": [
        "reg6 = re.compile(\"ACT.?\")\r\n",
        "imprimir_coincidencias(reg6, a)"
      ],
      "execution_count": 15,
      "outputs": [
        {
          "output_type": "stream",
          "text": [
            "['ACT', 'ACTG', 'ACTGAT', 'GGAATT', 'ATGATG', 'ATACTAGG']\n",
            "['ACT', 'ACTG', 'ACTGAT', 'ATACTAGG']\n",
            "['ACT', 'ACTG', 'ACTG', 'ACTA']\n"
          ],
          "name": "stdout"
        }
      ]
    },
    {
      "cell_type": "markdown",
      "metadata": {
        "id": "IfCywSd07Hgo"
      },
      "source": [
        "**\"{n}\" La expresión que se antepone coincida n veces.**\r\n",
        "\r\n",
        "**\"{n,m}\" La expresión que se antepone coincida como mínimo n veces y como máximo m veces.**\r\n",
        "\r\n",
        "**\"{,m}\" La expresión que se antepone coincida como mínimo 0 veces y como máximo m veces.**\r\n",
        "\r\n",
        "**\"{n,}\" La expresión que se antepone coincida como mínimo n veces y como máximo todas las posibles.** "
      ]
    },
    {
      "cell_type": "code",
      "metadata": {
        "colab": {
          "base_uri": "https://localhost:8080/"
        },
        "id": "_ujmlxrG708i",
        "outputId": "0cb57ac8-80bc-4189-d6ad-170b8a401c6b"
      },
      "source": [
        "reg7 = re.compile(\"ACT.{2}\")\r\n",
        "imprimir_coincidencias(reg7, a)"
      ],
      "execution_count": 16,
      "outputs": [
        {
          "output_type": "stream",
          "text": [
            "['ACT', 'ACTG', 'ACTGAT', 'GGAATT', 'ATGATG', 'ATACTAGG']\n",
            "['ACTGAT', 'ATACTAGG']\n",
            "['ACTGA', 'ACTAG']\n"
          ],
          "name": "stdout"
        }
      ]
    },
    {
      "cell_type": "code",
      "metadata": {
        "colab": {
          "base_uri": "https://localhost:8080/"
        },
        "id": "Cjs5iWGl8GVT",
        "outputId": "e38bc385-3f65-44bd-fca4-c046a84f12cd"
      },
      "source": [
        "reg8 = re.compile(\"ACT.{2,5}\")\r\n",
        "imprimir_coincidencias(reg8, a)"
      ],
      "execution_count": 17,
      "outputs": [
        {
          "output_type": "stream",
          "text": [
            "['ACT', 'ACTG', 'ACTGAT', 'GGAATT', 'ATGATG', 'ATACTAGG']\n",
            "['ACTGAT', 'ATACTAGG']\n",
            "['ACTGAT', 'ACTAGG']\n"
          ],
          "name": "stdout"
        }
      ]
    },
    {
      "cell_type": "markdown",
      "metadata": {
        "id": "1_4zsOe6-1ck"
      },
      "source": [
        "**\"\\\\\" Caracter de escape**\r\n",
        "\r\n",
        "Se utiliza cuando queremos incluir en nuestra expresión alguno de los caracteres especiales, por ejemplo para buscar el caracter:\r\n",
        " \r\n",
        "*   \".\" tenemos que escribir \"\\\\.\"\r\n",
        "*   \"\\\\\" tenemos que escribir \"\\\\\\\\\"\r\n",
        "*   \"(\" tenemos que escribir \"\\(\"\r\n",
        "*   tabulación tenemos que escribir \"\\\\t\"\r\n",
        "*   fin de línea tenemos que escribir \"\\\\n\"\r\n",
        "\r\n",
        "\r\n",
        "\r\n"
      ]
    },
    {
      "cell_type": "code",
      "metadata": {
        "colab": {
          "base_uri": "https://localhost:8080/"
        },
        "id": "renTnJGkVD9I",
        "outputId": "f0252e73-4f6a-404b-f56b-08b4aa45e9b5"
      },
      "source": [
        "texto2 = '3.14'\r\n",
        "y = re.search('.', texto2)\r\n",
        "print('Patrón \"{}\" en \"{}\" inicio {} fin {} coincidencia \"{}\"'.format(\r\n",
        "    y.re.pattern, y.string, y.start(), y.end(), y.group(), y.group()))\r\n",
        "\r\n",
        "z = re.search('\\.', texto2)\r\n",
        "print('Patrón \"{}\" en \"{}\" inicio {} fin {} coincidencia \"{}\"'.format(\r\n",
        "    z.re.pattern, z.string, z.start(), z.end(), z.group()))"
      ],
      "execution_count": 18,
      "outputs": [
        {
          "output_type": "stream",
          "text": [
            "Patrón \".\" en \"3.14\" inicio 0 fin 1 coincidencia \"3\"\n",
            "Patrón \"\\.\" en \"3.14\" inicio 1 fin 2 coincidencia \".\"\n"
          ],
          "name": "stdout"
        }
      ]
    },
    {
      "cell_type": "markdown",
      "metadata": {
        "id": "FLnCsnve9qqs"
      },
      "source": [
        "**\"[...]\" Descripción de conjuntos**"
      ]
    },
    {
      "cell_type": "code",
      "metadata": {
        "colab": {
          "base_uri": "https://localhost:8080/"
        },
        "id": "BZZ5pAE69w4L",
        "outputId": "6a7bc31f-bf7e-4062-ca9d-3c30fb958d8c"
      },
      "source": [
        "reg9 = re.compile(\"A[CT]T\")\r\n",
        "imprimir_coincidencias(reg9, a)"
      ],
      "execution_count": 19,
      "outputs": [
        {
          "output_type": "stream",
          "text": [
            "['ACT', 'ACTG', 'ACTGAT', 'GGAATT', 'ATGATG', 'ATACTAGG']\n",
            "['ACT', 'ACTG', 'ACTGAT', 'GGAATT', 'ATACTAGG']\n",
            "['ACT', 'ACT', 'ACT', 'ATT', 'ACT']\n"
          ],
          "name": "stdout"
        }
      ]
    },
    {
      "cell_type": "markdown",
      "metadata": {
        "id": "3xcG7Ma3-NFu"
      },
      "source": [
        "**Algunos ejemplos de conjuntos son:**\r\n",
        "\r\n",
        "\r\n",
        "*   [actg] las 4 posibles letras para nucleótidos\r\n",
        "*   [actgACTG] las 4 posibles letras para nucleótidos en minúscula o mayúscula\r\n",
        "*   [a-zA-Z] las letras del abecedario, mayúsculas y minúsculas\r\n",
        "*   [0-9] los números decimales\r\n",
        "*   [^0-9] cualquier caracter que no sean los números decimales\r\n",
        "\r\n",
        "\r\n",
        "\r\n",
        "\r\n",
        "\r\n",
        "\r\n",
        "\r\n",
        "\r\n",
        "\r\n",
        "\r\n"
      ]
    },
    {
      "cell_type": "markdown",
      "metadata": {
        "id": "T7k6-_wk-sNC"
      },
      "source": [
        "**Algunos conjuntos predefinidos en python que se utilizan con el caracter de escape:**\r\n",
        "\r\n",
        "*   \\d coincide con [0-9]\r\n",
        "*   \\D coincide con [^0-9]\r\n",
        "*   \\w coincide con [a-zA-Z0-9]\r\n",
        "*   \\W coincide con [^a-zA-Z0-9_]\r\n",
        "*   \\s coincide con [ \\t\\n\\r\\f\\v]\r\n",
        "*   \\S coincide con [^ \\t\\n\\r\\f\\v]\r\n",
        "\r\n",
        "\r\n",
        "\r\n"
      ]
    },
    {
      "cell_type": "markdown",
      "metadata": {
        "id": "g40Wu_pi8C-j"
      },
      "source": [
        "**\"(...)\" grupos de expresiones**"
      ]
    },
    {
      "cell_type": "code",
      "metadata": {
        "colab": {
          "base_uri": "https://localhost:8080/"
        },
        "id": "xFzvrz6aKGCm",
        "outputId": "4a7192e2-b152-4d33-e910-c6cae556736e"
      },
      "source": [
        "#ejemplo de grupo\r\n",
        "reg10 = re.compile(\"([atg]{3}){2,5}\", re.IGNORECASE)\r\n",
        "imprimir_coincidencias(reg10, a)"
      ],
      "execution_count": 20,
      "outputs": [
        {
          "output_type": "stream",
          "text": [
            "['ACT', 'ACTG', 'ACTGAT', 'GGAATT', 'ATGATG', 'ATACTAGG']\n",
            "['GGAATT', 'ATGATG']\n",
            "['GGAATT', 'ATGATG']\n"
          ],
          "name": "stdout"
        }
      ]
    },
    {
      "cell_type": "code",
      "metadata": {
        "colab": {
          "base_uri": "https://localhost:8080/"
        },
        "id": "byYGYFN-d9yR",
        "outputId": "8ce62ac4-f4b9-415e-e2de-f8345e2044a5"
      },
      "source": [
        "#ejemplo de obtener solo un grupo\r\n",
        "reg11 = re.compile(\"[at]{3}(.{2,5})a\", re.IGNORECASE)\r\n",
        "exp_group1 = []\r\n",
        "texto_coincidencia = []\r\n",
        "for texto in a:  \r\n",
        "    match = reg11.search(texto)\r\n",
        "    if match:\r\n",
        "        exp_group1.append(match.group(1))\r\n",
        "        texto_coincidencia.append(texto)\r\n",
        "print(a)\r\n",
        "print(texto_coincidencia)\r\n",
        "print(exp_group1)  "
      ],
      "execution_count": 21,
      "outputs": [
        {
          "output_type": "stream",
          "text": [
            "['ACT', 'ACTG', 'ACTGAT', 'GGAATT', 'ATGATG', 'ATACTAGG']\n",
            "['ATACTAGG']\n",
            "['CT']\n"
          ],
          "name": "stdout"
        }
      ]
    },
    {
      "cell_type": "code",
      "metadata": {
        "colab": {
          "base_uri": "https://localhost:8080/"
        },
        "id": "Hm3BG1JtfGEC",
        "outputId": "e5dad334-22fc-4280-947d-b11e800fd86d"
      },
      "source": [
        "#subtitutir con el grupo\r\n",
        "reg12 = re.compile(\"[at]{3}(.{2,5})a\", re.IGNORECASE)\r\n",
        "new_list = []\r\n",
        "for texto in a:  \r\n",
        "    match = reg12.sub(\"---\\\\1-\", texto)\r\n",
        "    new_list.append(match) \r\n",
        "print(a)  \r\n",
        "print(new_list)"
      ],
      "execution_count": 22,
      "outputs": [
        {
          "output_type": "stream",
          "text": [
            "['ACT', 'ACTG', 'ACTGAT', 'GGAATT', 'ATGATG', 'ATACTAGG']\n",
            "['ACT', 'ACTG', 'ACTGAT', 'GGAATT', 'ATGATG', '---CT-GG']\n"
          ],
          "name": "stdout"
        }
      ]
    },
    {
      "cell_type": "code",
      "metadata": {
        "colab": {
          "base_uri": "https://localhost:8080/"
        },
        "id": "lkImjeIagNpz",
        "outputId": "ce6236e7-9231-43de-a926-dc787c077d66"
      },
      "source": [
        "#subtitutir cambiando el orden de los grupos\r\n",
        "reg13 = re.compile(\"([at]{3})(.{2,3})(.*)\", re.IGNORECASE)\r\n",
        "new_list2 = []\r\n",
        "for texto in a:  \r\n",
        "    match = reg13.sub(\"\\\\2---\\\\1---\\\\3\", texto)\r\n",
        "    new_list2.append(match) \r\n",
        "print(a)  \r\n",
        "print(new_list2)"
      ],
      "execution_count": 23,
      "outputs": [
        {
          "output_type": "stream",
          "text": [
            "['ACT', 'ACTG', 'ACTGAT', 'GGAATT', 'ATGATG', 'ATACTAGG']\n",
            "['ACT', 'ACTG', 'ACTGAT', 'GGAATT', 'ATGATG', 'CTA---ATA---GG']\n"
          ],
          "name": "stdout"
        }
      ]
    },
    {
      "cell_type": "markdown",
      "metadata": {
        "id": "YiFlokD9CGpO"
      },
      "source": [
        "**\"|\" hay coincidencias si está la expresión anterior o la siguiente**"
      ]
    },
    {
      "cell_type": "code",
      "metadata": {
        "colab": {
          "base_uri": "https://localhost:8080/"
        },
        "id": "ucfmSR2hClKJ",
        "outputId": "72171b88-4862-440e-a348-927b4eb5b352"
      },
      "source": [
        "reg14 = re.compile(\"(ACTG)|(GAT)\")\r\n",
        "imprimir_coincidencias(reg14, a)"
      ],
      "execution_count": 24,
      "outputs": [
        {
          "output_type": "stream",
          "text": [
            "['ACT', 'ACTG', 'ACTGAT', 'GGAATT', 'ATGATG', 'ATACTAGG']\n",
            "['ACTG', 'ACTGAT', 'ATGATG']\n",
            "['ACTG', 'ACTG', 'GAT']\n"
          ],
          "name": "stdout"
        }
      ]
    },
    {
      "cell_type": "markdown",
      "metadata": {
        "id": "s7mY2DnWBpdL"
      },
      "source": [
        "# Ejemplo de expresiones regulares en bioinformática, ejemplo de SLIMs"
      ]
    },
    {
      "cell_type": "markdown",
      "metadata": {
        "id": "Yi_aSDdBB-RR"
      },
      "source": [
        "SLIMs, del inglés short lineal motifs. Son las siglas utilizadas para catalogar patrones cortos que ocurren en las secuencias de proteínas. Se describen mediante espresiones regulares. Pues estos motivos lineales pueden describir una función.\r\n",
        "\r\n",
        "[ELM](http://elm.eu.org/) es un servidor web de SLIMs en eucariotas para sitios funcionales de proteínas.\r\n"
      ]
    },
    {
      "cell_type": "markdown",
      "metadata": {
        "id": "VPCCN21Q0pC8"
      },
      "source": [
        "![](https://github.com/Ferorti/escuela2021/blob/main/images/png/ELM.png)\r\n",
        "\r\n",
        "\r\n",
        "\r\n"
      ]
    }
  ]
}