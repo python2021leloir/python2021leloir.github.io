{
 "metadata": {
  "language_info": {
   "codemirror_mode": {
    "name": "ipython",
    "version": 3
   },
   "file_extension": ".py",
   "mimetype": "text/x-python",
   "name": "python",
   "nbconvert_exporter": "python",
   "pygments_lexer": "ipython3",
   "version": "3.9.0-final"
  },
  "orig_nbformat": 2,
  "kernelspec": {
   "name": "python3",
   "display_name": "Python 3.9.0 64-bit ('venv')",
   "metadata": {
    "interpreter": {
     "hash": "7341b9afafe5a943debca8c76d79d051c693ad015f257acb1152bde5799729e2"
    }
   }
  }
 },
 "nbformat": 4,
 "nbformat_minor": 2,
 "cells": [
  {
   "source": [
    "# Objetos\n",
    "\n",
    "[![Open In Colab](https://colab.research.google.com/assets/colab-badge.svg)](https://colab.research.google.com/github/Ferorti/escuela2021/blob/main/clases/clase_07_clases_y_objetos.ipynb)\n",
    "\n",
    "## Secciones\n",
    "- ¿Que son las objetos?\n",
    "- ¿Qué es un método?\n",
    "- Crear objetos propios.\n"
   ],
   "cell_type": "markdown",
   "metadata": {}
  },
  {
   "source": [
    "En general las listas y los diccionarios son suficientes para representar muchos de los datos con los que trabajamos día a día.\n",
    "\n",
    "Sin embargo a veces es preferible tener una estructura que se ajuste mejor a nuestro problema particular.\n",
    "\n",
    "Por ejemplo, si en el día a a día trabajamos con secuencias de ADN, es conveniente tener una __clase__ de objetos que tenga la funcionalidad espefíca que vamos a necesitar.\n",
    "\n",
    "Biopython tiene un tipo de objetos para representar secuencias.\n",
    "\n",
    "Este tipo de objeto se llama __Seq__.\n"
   ],
   "cell_type": "markdown",
   "metadata": {}
  },
  {
   "cell_type": "code",
   "execution_count": 8,
   "metadata": {},
   "outputs": [
    {
     "output_type": "stream",
     "name": "stdout",
     "text": [
      "<class 'Bio.Seq.Seq'>\nMTATVYLT\n"
     ]
    }
   ],
   "source": [
    "from Bio.Seq import Seq\n",
    "\n",
    "seq = Seq(\"atgactgctacggtctacttgacac\")\n",
    "print(type(seq))\n",
    "\n",
    "translated = seq.translate()\n",
    "print(translated)"
   ]
  },
  {
   "source": [
    "## ¿Qué son los métodos?\n",
    "\n",
    "Los métodos son \"funciones\" especiales que están atadas a una clase de objeto.\n",
    "\n",
    "```\n",
    "mi_seq = Seq(\"atg\") # mi_seq es una [instacia] de la [clase] Seq.\n",
    "\n",
    "mi_seq.translate() # translate es un [método] del objeto mi_seq.\n",
    "\n",
    "```"
   ],
   "cell_type": "markdown",
   "metadata": {}
  },
  {
   "source": [
    "## Crear clases de objetos"
   ],
   "cell_type": "markdown",
   "metadata": {}
  },
  {
   "source": [
    "![](../images/svg/class_coockies.svg)"
   ],
   "cell_type": "markdown",
   "metadata": {}
  },
  {
   "cell_type": "code",
   "execution_count": 13,
   "metadata": {},
   "outputs": [
    {
     "output_type": "stream",
     "name": "stdout",
     "text": [
      "Estoy creando una nueva instancia de SuperSeq\natg\n"
     ]
    }
   ],
   "source": [
    "class SuperSeq(): # Con la palabra clave class creo una nueva clase.\n",
    "    \n",
    "    def __init__(self, seq):\n",
    "        # __init__ es un método especial que sirve para crear nuevas instancias.\n",
    "        print(\"Estoy creando una nueva instancia de SuperSeq\")\n",
    "        self.datos = seq\n",
    "        # self hace referencia al objeto que está siendo usado.\n",
    "        # datos es una nueva variable que está siendo creada y \n",
    "        # está ligada al objeto. \n",
    "    \n",
    "    def largo(self):\n",
    "        # es un método definido por mi que devuelve el largo de la secuencia\n",
    "        return len(self.data)\n",
    "\n",
    "superseq1 = SuperSeq(\"atg\")\n",
    "print(superseq1.datos)\n",
    "print(superseq1.len())\n",
    "\n"
   ]
  },
  {
   "source": [
    "## Todo en python son objetos\n",
    "\n",
    "Los objetos están por todos lados en python, tanto que a veces ni lo notamos.\n",
    "\n",
    "- Las listas y los diccionarios son objetos.\n",
    "- Los strings son objetos\n",
    "- Los números son objetos\n"
   ],
   "cell_type": "markdown",
   "metadata": {}
  },
  {
   "cell_type": "code",
   "execution_count": 44,
   "metadata": {},
   "outputs": [
    {
     "output_type": "execute_result",
     "data": {
      "text/plain": [
       "False"
      ]
     },
     "metadata": {},
     "execution_count": 44
    }
   ],
   "source": [
    "mi_numero = 2.6\n",
    "mi_numero.is_integer() # is_integer es un método"
   ]
  },
  {
   "cell_type": "code",
   "execution_count": 45,
   "metadata": {},
   "outputs": [
    {
     "output_type": "execute_result",
     "data": {
      "text/plain": [
       "2"
      ]
     },
     "metadata": {},
     "execution_count": 45
    }
   ],
   "source": [
    "\"texto\".find(\"x\") # find es un método"
   ]
  },
  {
   "cell_type": "code",
   "execution_count": 74,
   "metadata": {},
   "outputs": [
    {
     "output_type": "stream",
     "name": "stdout",
     "text": [
      "<built-in function abs>\n<class 'builtin_function_or_method'>\n"
     ]
    }
   ],
   "source": [
    "# Hasta la funciones son objetos\n",
    "print(abs.__str__()) # __str__ es un método\n",
    "print(type(abs))"
   ]
  }
 ]
}