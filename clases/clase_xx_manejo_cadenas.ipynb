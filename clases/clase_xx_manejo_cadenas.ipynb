{
  "nbformat": 4,
  "nbformat_minor": 0,
  "metadata": {
    "colab": {
      "name": "clase_xx_manejo_cadenas.ipynb",
      "provenance": [],
      "collapsed_sections": [],
      "authorship_tag": "ABX9TyNjmcFbUB9eIkZ8LAUHK42j",
      "include_colab_link": true
    },
    "kernelspec": {
      "name": "python3",
      "display_name": "Python 3"
    }
  },
  "cells": [
    {
      "cell_type": "markdown",
      "metadata": {
        "id": "view-in-github",
        "colab_type": "text"
      },
      "source": [
        "<a href=\"https://colab.research.google.com/github/Ferorti/escuela2021/blob/main/clases/clase_xx_manejo_cadenas.ipynb\" target=\"_parent\"><img src=\"https://colab.research.google.com/assets/colab-badge.svg\" alt=\"Open In Colab\"/></a>"
      ]
    },
    {
      "cell_type": "markdown",
      "metadata": {
        "id": "6S0rGfAYrGdo"
      },
      "source": [
        "# Cadenas de texto en python"
      ]
    },
    {
      "cell_type": "markdown",
      "metadata": {
        "id": "NFaW2i1qsSxA"
      },
      "source": [
        "**Ejemplo de cadenas de texto en python**"
      ]
    },
    {
      "cell_type": "code",
      "metadata": {
        "colab": {
          "base_uri": "https://localhost:8080/"
        },
        "id": "-yLQx4oLrIqV",
        "outputId": "44b02e68-55a3-42df-b154-7f8f47a068a4"
      },
      "source": [
        "cadena1 = 'Los primeros 20 aminoácidos de la proteína BRAF'\r\n",
        "cadena2 = 'son MAALSGGGGGGAEPGQALFN'\r\n",
        "print(cadena1)\r\n",
        "print(cadena2)"
      ],
      "execution_count": 1,
      "outputs": [
        {
          "output_type": "stream",
          "text": [
            "Los primeros 20 aminoácidos de la proteína BRAF\n",
            "son MAALSGGGGGGAEPGQALFN\n"
          ],
          "name": "stdout"
        }
      ]
    },
    {
      "cell_type": "markdown",
      "metadata": {
        "id": "ehM-C7uRseK3"
      },
      "source": [
        "# Funciones útiles para el manejo de cadenas"
      ]
    },
    {
      "cell_type": "markdown",
      "metadata": {
        "id": "p94-UPb7svrI"
      },
      "source": [
        "**Concatenar cadenas**"
      ]
    },
    {
      "cell_type": "code",
      "metadata": {
        "colab": {
          "base_uri": "https://localhost:8080/"
        },
        "id": "pBMOuWgwq8BW",
        "outputId": "bbb2cdee-643c-4c5e-e121-873fa4d5f88e"
      },
      "source": [
        "cadena3 = cadena1 + ' ' + cadena2 + '.'\r\n",
        "print(cadena3)"
      ],
      "execution_count": 2,
      "outputs": [
        {
          "output_type": "stream",
          "text": [
            "Los primeros 20 aminoácidos de la proteína BRAF son MAALSGGGGGGAEPGQALFN.\n"
          ],
          "name": "stdout"
        }
      ]
    },
    {
      "cell_type": "markdown",
      "metadata": {
        "id": "ycs0wWCbtUCq"
      },
      "source": [
        "**Multiplicar cadenas**"
      ]
    },
    {
      "cell_type": "code",
      "metadata": {
        "colab": {
          "base_uri": "https://localhost:8080/"
        },
        "id": "S9pmemoctbaR",
        "outputId": "e09750aa-977d-457a-ad23-1cd00677e8c6"
      },
      "source": [
        "cadena4 = \"AUG\" #codón de la Metionina\r\n",
        "#obtener una cadena de nucleótidos de 6 Metioninas\r\n",
        "cadena5 = cadena4 * 6\r\n",
        "print(cadena5)"
      ],
      "execution_count": 3,
      "outputs": [
        {
          "output_type": "stream",
          "text": [
            "AUGAUGAUGAUGAUGAUG\n"
          ],
          "name": "stdout"
        }
      ]
    },
    {
      "cell_type": "markdown",
      "metadata": {
        "id": "ejPtzqbRuCZI"
      },
      "source": [
        "**Longitud, cantidad de caracteres**"
      ]
    },
    {
      "cell_type": "code",
      "metadata": {
        "colab": {
          "base_uri": "https://localhost:8080/"
        },
        "id": "Chm5DdXzuWGQ",
        "outputId": "e3460f22-fe88-4347-f8e7-8cf62e8024ca"
      },
      "source": [
        "print(len(cadena5))"
      ],
      "execution_count": 4,
      "outputs": [
        {
          "output_type": "stream",
          "text": [
            "18\n"
          ],
          "name": "stdout"
        }
      ]
    },
    {
      "cell_type": "markdown",
      "metadata": {
        "id": "HBp6xY35uclJ"
      },
      "source": [
        "**Buscar una subcadena**"
      ]
    },
    {
      "cell_type": "code",
      "metadata": {
        "colab": {
          "base_uri": "https://localhost:8080/"
        },
        "id": "JZk7nzk5ujcJ",
        "outputId": "ddfcf33f-18e4-4326-ba1d-3439fdd18c27"
      },
      "source": [
        "pos = cadena3.find(\"20\")\r\n",
        "print(cadena3)\r\n",
        "print(pos)"
      ],
      "execution_count": 5,
      "outputs": [
        {
          "output_type": "stream",
          "text": [
            "Los primeros 20 aminoácidos de la proteína BRAF son MAALSGGGGGGAEPGQALFN.\n",
            "13\n"
          ],
          "name": "stdout"
        }
      ]
    },
    {
      "cell_type": "code",
      "metadata": {
        "colab": {
          "base_uri": "https://localhost:8080/"
        },
        "id": "lgNaQK6au-1Q",
        "outputId": "1b159b0c-4699-406b-def3-55299d0edb28"
      },
      "source": [
        "#si la cadena no está devuelve -1\r\n",
        "pos = cadena3.find(\"P15056\")\r\n",
        "print(pos)"
      ],
      "execution_count": 6,
      "outputs": [
        {
          "output_type": "stream",
          "text": [
            "-1\n"
          ],
          "name": "stdout"
        }
      ]
    },
    {
      "cell_type": "markdown",
      "metadata": {
        "id": "iy4Y1-rrvP62"
      },
      "source": [
        "**Convertir a mayúscula o minúsculas**"
      ]
    },
    {
      "cell_type": "code",
      "metadata": {
        "colab": {
          "base_uri": "https://localhost:8080/"
        },
        "id": "Zc1ivyaWv8do",
        "outputId": "6322af9d-262e-4289-c4bb-a058d9735591"
      },
      "source": [
        "cadena7 = cadena1.lower()\r\n",
        "cadena8 = cadena1.upper()\r\n",
        "cadena9 = cadena1.capitalize()\r\n",
        "print(cadena1)\r\n",
        "print(cadena7)\r\n",
        "print(cadena8)\r\n",
        "print(cadena9)"
      ],
      "execution_count": 7,
      "outputs": [
        {
          "output_type": "stream",
          "text": [
            "Los primeros 20 aminoácidos de la proteína BRAF\n",
            "los primeros 20 aminoácidos de la proteína braf\n",
            "LOS PRIMEROS 20 AMINOÁCIDOS DE LA PROTEÍNA BRAF\n",
            "Los primeros 20 aminoácidos de la proteína braf\n"
          ],
          "name": "stdout"
        }
      ]
    },
    {
      "cell_type": "markdown",
      "metadata": {
        "id": "aMuZw-E1vvK6"
      },
      "source": [
        "**Remplazar texto**"
      ]
    },
    {
      "cell_type": "code",
      "metadata": {
        "colab": {
          "base_uri": "https://localhost:8080/"
        },
        "id": "NY5QOK-ywYZH",
        "outputId": "4cd55c66-868b-4a89-8831-50c1263bcfcc"
      },
      "source": [
        "cadena10 = cadena3.replace(\"BRAF\", \"BRAF (Uniprot: P15056)\")\r\n",
        "print(cadena3)\r\n",
        "print(cadena10)"
      ],
      "execution_count": 8,
      "outputs": [
        {
          "output_type": "stream",
          "text": [
            "Los primeros 20 aminoácidos de la proteína BRAF son MAALSGGGGGGAEPGQALFN.\n",
            "Los primeros 20 aminoácidos de la proteína BRAF (Uniprot: P15056) son MAALSGGGGGGAEPGQALFN.\n"
          ],
          "name": "stdout"
        }
      ]
    },
    {
      "cell_type": "code",
      "metadata": {
        "colab": {
          "base_uri": "https://localhost:8080/"
        },
        "id": "ribc8KtbxB5A",
        "outputId": "0f5a3111-6a6b-4346-b7b4-8fcf7c418de9"
      },
      "source": [
        "# cadena.replace(oldtext, newtext) remplazar todas las ocurrencias\r\n",
        "# cadena.replace(oldtext, newtext, -1) remplazar todas las ocurrencias\r\n",
        "# cadena.replace(oldtext, newtext, 1) remplazar la 1ra ocurrencia\r\n",
        "# cadena.replace(oldtext, newtext, 2) remplazar la 1ra y segunda ocurrencia\r\n",
        "\r\n",
        "cadena11 = cadena3.replace(\"G\", \"-\")\r\n",
        "cadena12 = cadena3.replace(\"G\", \"-\", -1)\r\n",
        "cadena13 = cadena3.replace(\"G\", \"-\", 1)\r\n",
        "cadena14 = cadena3.replace(\"G\", \"-\", 2)\r\n",
        "print(cadena3)\r\n",
        "print(cadena11)\r\n",
        "print(cadena12)\r\n",
        "print(cadena13)\r\n",
        "print(cadena14)"
      ],
      "execution_count": 9,
      "outputs": [
        {
          "output_type": "stream",
          "text": [
            "Los primeros 20 aminoácidos de la proteína BRAF son MAALSGGGGGGAEPGQALFN.\n",
            "Los primeros 20 aminoácidos de la proteína BRAF son MAALS------AEP-QALFN.\n",
            "Los primeros 20 aminoácidos de la proteína BRAF son MAALS------AEP-QALFN.\n",
            "Los primeros 20 aminoácidos de la proteína BRAF son MAALS-GGGGGAEPGQALFN.\n",
            "Los primeros 20 aminoácidos de la proteína BRAF son MAALS--GGGGAEPGQALFN.\n"
          ],
          "name": "stdout"
        }
      ]
    },
    {
      "cell_type": "markdown",
      "metadata": {
        "id": "du-A103_ye4J"
      },
      "source": [
        "**Subcadena**"
      ]
    },
    {
      "cell_type": "code",
      "metadata": {
        "colab": {
          "base_uri": "https://localhost:8080/"
        },
        "id": "9I7MXdgCyhjX",
        "outputId": "3fa23158-873b-4222-996f-355a9d8e40c5"
      },
      "source": [
        "cadena15 = cadena1[16:27]\r\n",
        "print(cadena1)\r\n",
        "print(cadena15)"
      ],
      "execution_count": 10,
      "outputs": [
        {
          "output_type": "stream",
          "text": [
            "Los primeros 20 aminoácidos de la proteína BRAF\n",
            "aminoácidos\n"
          ],
          "name": "stdout"
        }
      ]
    },
    {
      "cell_type": "markdown",
      "metadata": {
        "id": "fvwfsuJvD666"
      },
      "source": [
        "**Dividir cadena por un separador**"
      ]
    },
    {
      "cell_type": "code",
      "metadata": {
        "colab": {
          "base_uri": "https://localhost:8080/"
        },
        "id": "chELAz5QzFV4",
        "outputId": "9be7c6fa-4e45-489c-aa85-b76b1cd72d39"
      },
      "source": [
        "separador1 = \" \"\r\n",
        "lista1 = cadena1.split(separador1)\r\n",
        "print(cadena1)\r\n",
        "print(lista1)"
      ],
      "execution_count": 11,
      "outputs": [
        {
          "output_type": "stream",
          "text": [
            "Los primeros 20 aminoácidos de la proteína BRAF\n",
            "['Los', 'primeros', '20', 'aminoácidos', 'de', 'la', 'proteína', 'BRAF']\n"
          ],
          "name": "stdout"
        }
      ]
    },
    {
      "cell_type": "code",
      "metadata": {
        "colab": {
          "base_uri": "https://localhost:8080/"
        },
        "id": "Y9LpNmoMzdLY",
        "outputId": "410c9d72-7142-4bdc-d238-61c65eb0c1b6"
      },
      "source": [
        "#lista1 = cadena1.split(separador1) # dividir toda la cadena\r\n",
        "lista2 = cadena1.split(separador1, -1) # dividir toda la cadena\r\n",
        "lista3 = cadena1.split(separador1, 1) # dividir toda la cadena solo en el 1er separador\r\n",
        "lista4 = cadena1.split(separador1, 2) # dividir toda la cadena solo en los 2 primeros separadores\r\n",
        "print(cadena1)\r\n",
        "print(lista1)\r\n",
        "print(lista2)\r\n",
        "print(lista3)\r\n",
        "print(lista4)"
      ],
      "execution_count": 12,
      "outputs": [
        {
          "output_type": "stream",
          "text": [
            "Los primeros 20 aminoácidos de la proteína BRAF\n",
            "['Los', 'primeros', '20', 'aminoácidos', 'de', 'la', 'proteína', 'BRAF']\n",
            "['Los', 'primeros', '20', 'aminoácidos', 'de', 'la', 'proteína', 'BRAF']\n",
            "['Los', 'primeros 20 aminoácidos de la proteína BRAF']\n",
            "['Los', 'primeros', '20 aminoácidos de la proteína BRAF']\n"
          ],
          "name": "stdout"
        }
      ]
    },
    {
      "cell_type": "markdown",
      "metadata": {
        "id": "L0CjKuie0b64"
      },
      "source": [
        "**Concatenar cadenas con un separador**"
      ]
    },
    {
      "cell_type": "code",
      "metadata": {
        "colab": {
          "base_uri": "https://localhost:8080/"
        },
        "id": "mWNaQN4u0goX",
        "outputId": "b5035c68-92f6-40c9-9466-ac94b7fb9470"
      },
      "source": [
        "separador2 = \"\\t\"\r\n",
        "cadena16 = separador2.join(lista1) \r\n",
        "print(lista1)\r\n",
        "print(cadena16)"
      ],
      "execution_count": 13,
      "outputs": [
        {
          "output_type": "stream",
          "text": [
            "['Los', 'primeros', '20', 'aminoácidos', 'de', 'la', 'proteína', 'BRAF']\n",
            "Los\tprimeros\t20\taminoácidos\tde\tla\tproteína\tBRAF\n"
          ],
          "name": "stdout"
        }
      ]
    },
    {
      "cell_type": "markdown",
      "metadata": {
        "id": "frJ-Uysj18iJ"
      },
      "source": [
        "**Eliminar caracteres iniciales o finales de un texto**"
      ]
    },
    {
      "cell_type": "code",
      "metadata": {
        "colab": {
          "base_uri": "https://localhost:8080/"
        },
        "id": "jcZUqNHe2CZ_",
        "outputId": "c4478c85-86a1-433b-8ce0-59ff0a115138"
      },
      "source": [
        "cadena17 = \"--MAALS------AEP-QALFN--\"\r\n",
        "cadena18 = cadena16.lstrip(\"-\")\r\n",
        "cadena19 = cadena16.rstrip(\"-\")\r\n",
        "cadena20 = cadena16.strip(\"-\")\r\n",
        "print(cadena17)\r\n",
        "print(cadena18)\r\n",
        "print(cadena19)\r\n",
        "print(cadena20)"
      ],
      "execution_count": 14,
      "outputs": [
        {
          "output_type": "stream",
          "text": [
            "--MAALS------AEP-QALFN--\n",
            "Los\tprimeros\t20\taminoácidos\tde\tla\tproteína\tBRAF\n",
            "Los\tprimeros\t20\taminoácidos\tde\tla\tproteína\tBRAF\n",
            "Los\tprimeros\t20\taminoácidos\tde\tla\tproteína\tBRAF\n"
          ],
          "name": "stdout"
        }
      ]
    },
    {
      "cell_type": "markdown",
      "metadata": {
        "id": "_FX7W_e_2pUJ"
      },
      "source": [
        "Si al utilizar alguna de estas funciones strip(), lstrip() y rtrip() no se especifica el texto de caracteres, por defecto se eliminar los caracteres en blanco que ingluye los espacios, tabulaciones, saltos de línea, entre otros."
      ]
    },
    {
      "cell_type": "code",
      "metadata": {
        "colab": {
          "base_uri": "https://localhost:8080/"
        },
        "id": "c5R9RrPU3C9_",
        "outputId": "3f1170fa-8b8c-4e34-bc8c-5a44a0877cfd"
      },
      "source": [
        "cadena21 = \"  MAALS------AEP-QALFN\\n\"\r\n",
        "cadena22 = cadena21.strip()\r\n",
        "print('\\\"'+cadena21+'\\\"')\r\n",
        "print('\\\"'+cadena22+'\\\"')"
      ],
      "execution_count": 15,
      "outputs": [
        {
          "output_type": "stream",
          "text": [
            "\"  MAALS------AEP-QALFN\n",
            "\"\n",
            "\"MAALS------AEP-QALFN\"\n"
          ],
          "name": "stdout"
        }
      ]
    },
    {
      "cell_type": "markdown",
      "metadata": {
        "id": "rut2ZqKh8Qs0"
      },
      "source": [
        "**Formato de cadenas**"
      ]
    },
    {
      "cell_type": "code",
      "metadata": {
        "colab": {
          "base_uri": "https://localhost:8080/"
        },
        "id": "j8AHHBMf8T8H",
        "outputId": "574b32ac-5e81-456c-a309-422b37509b00"
      },
      "source": [
        "#Los marcadores de posición se pueden identificar mediante índices con nombre {proteina}, índices numerados {0} o incluso marcadores de posición vacíos {}\r\n",
        "txt1 = \"Los primeros {naa} aminoácidos de la proteína {proteina} son {secuencia}.\".format(naa = 20, proteina=\"BRAF\", secuencia=\"MAALSGGGGGGAEPGQALFN\")\r\n",
        "txt2 = \"Los primeros {0} aminoácidos de la proteína {1} son {2}.\".format(20, \"BRAF\", \"MAALSGGGGGGAEPGQALFN\")\r\n",
        "txt3 = \"Los primeros {} aminoácidos de la proteína {} son {}.\".format(20, \"BRAF\", \"MAALSGGGGGGAEPGQALFN\")\r\n",
        "\r\n",
        "print(txt1)\r\n",
        "print(txt2)\r\n",
        "print(txt3)"
      ],
      "execution_count": 16,
      "outputs": [
        {
          "output_type": "stream",
          "text": [
            "Los primeros 20 aminoácidos de la proteína BRAF son MAALSGGGGGGAEPGQALFN.\n",
            "Los primeros 20 aminoácidos de la proteína BRAF son MAALSGGGGGGAEPGQALFN.\n",
            "Los primeros 20 aminoácidos de la proteína BRAF son MAALSGGGGGGAEPGQALFN.\n"
          ],
          "name": "stdout"
        }
      ]
    },
    {
      "cell_type": "code",
      "metadata": {
        "colab": {
          "base_uri": "https://localhost:8080/"
        },
        "id": "KlJAy0zIAMmM",
        "outputId": "c7142a91-4be7-4511-874d-5d6a16c9327d"
      },
      "source": [
        "txt4 = \"La proteína {proteina} pesa {peso} Da.\".format(\r\n",
        "    proteina = \"BRAF\", naa = 766, peso = 84436.135, iduniprot=\"P15056\"\r\n",
        ")\r\n",
        "txt5 = \"La proteína {proteina} pesa {peso:,.1f} Da.\".format(proteina = \"BRAF\", naa = 766, peso = 84436.135, iduniprot=\"P15056\")\r\n",
        "print(txt4)\r\n",
        "print(txt5)"
      ],
      "execution_count": 17,
      "outputs": [
        {
          "output_type": "stream",
          "text": [
            "La proteína BRAF pesa 84436.135 Da.\n",
            "La proteína BRAF pesa 84,436.1 Da.\n"
          ],
          "name": "stdout"
        }
      ]
    },
    {
      "cell_type": "markdown",
      "metadata": {
        "id": "kS1wCtsD8U6O"
      },
      "source": [
        "**Algunos tipos de formatos que se pueden utilizar**\r\n",
        "\r\n",
        ":<\tLeft aligns the result (within the available space)\r\n",
        "\r\n",
        ":>\tRight aligns the result (within the available space)\r\n",
        "\r\n",
        ":^\tCenter aligns the result (within the available space)\r\n",
        "\r\n",
        ":=\tPlaces the sign to the left most position\r\n",
        "\r\n",
        ":+\tUse a plus sign to indicate if the result is positive or negative\r\n",
        "\r\n",
        ":-\tUse a minus sign for negative values only\r\n",
        "\r\n",
        ": \tUse a space to insert an extra space before positive numbers (and a minus sign befor negative numbers)\r\n",
        "\r\n",
        ":,\tUse a comma as a thousand separator\r\n",
        "\r\n",
        ":_\tUse a underscore as a thousand separator\r\n",
        "\r\n",
        ":d\tDecimal format\r\n",
        "\r\n",
        ":e\tScientific format, with a lower case e\r\n",
        "\r\n",
        ":E\tScientific format, with an upper case E\r\n",
        "\r\n",
        ":f\tFix point number format\r\n",
        "\r\n",
        ":F\tFix point number format, in uppercase format (show inf and nan as INF and NAN)\r\n",
        "\r\n",
        ":n\tNumber format\r\n",
        "\r\n",
        ":%\tPercentage format"
      ]
    }
  ]
}