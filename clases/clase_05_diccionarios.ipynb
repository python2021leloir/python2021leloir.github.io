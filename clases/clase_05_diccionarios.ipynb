{
 "metadata": {
  "language_info": {
   "codemirror_mode": {
    "name": "ipython",
    "version": 3
   },
   "file_extension": ".py",
   "mimetype": "text/x-python",
   "name": "python",
   "nbconvert_exporter": "python",
   "pygments_lexer": "ipython3",
   "version": "3.9.0-final"
  },
  "orig_nbformat": 2,
  "kernelspec": {
   "name": "python3",
   "display_name": "Python 3.9.0 64-bit ('venv')",
   "metadata": {
    "interpreter": {
     "hash": "7341b9afafe5a943debca8c76d79d051c693ad015f257acb1152bde5799729e2"
    }
   }
  }
 },
 "nbformat": 4,
 "nbformat_minor": 2,
 "cells": [
  {
   "source": [
    "# Diccionarios\n",
    "\n",
    "[![Open In Colab](https://colab.research.google.com/assets/colab-badge.svg)](https://colab.research.google.com/github/Ferorti/escuela2021/blob/main/clases/clase_05_diccionarios.ipynb)\n",
    "\n",
    "## Secciones\n",
    "- ¿Que son los diccionarios?\n",
    "- Métodos\n",
    "- Recorrer un diccionario"
   ],
   "cell_type": "markdown",
   "metadata": {}
  },
  {
   "source": [
    "##  ¿Qué son los diccionarios?\n",
    "\n",
    "Son estructuras de datos que asocian dos grupos de datos diferentes.\n",
    "\n",
    "Se asocia un valor de un grupo, con otro valor del otro grupo.\n",
    "\n",
    "Veamos el ejemplo:\n"
   ],
   "cell_type": "markdown",
   "metadata": {}
  },
  {
   "source": [
    "Tengo dos grupos de datos.\n",
    "\n",
    "- El primero es una lista con nombre de aminoácidos (código de una letra).\n",
    "- El segundo es una lista con el peso molecular de los aminoácidos."
   ],
   "cell_type": "markdown",
   "metadata": {}
  },
  {
   "source": [
    "amino = [\n",
    "\t'I', 'L', 'K', 'M', 'F',\n",
    "\t'T', 'W', 'V', 'R', 'H',\n",
    "\t'A', 'N', 'D', 'C', 'E',\n",
    "\t'Q', 'G', 'P', 'S', 'Y'\n",
    "]\n",
    "pm = [\n",
    "\t131.1736, 131.1736, 146.1882, 149.2124, 165.1900,\n",
    "\t119.1197, 204.2262, 117.1469, 174.2017, 155.1552,\n",
    "\t89.0935,  132.1184, 133.1032, 121.1590, 147.1299,\n",
    "    146.1451, 75.0669,  115.1310, 105.0930, 181.1894\n",
    "]"
   ],
   "cell_type": "code",
   "metadata": {},
   "execution_count": 2,
   "outputs": []
  },
  {
   "source": [
    "El valor en la lista __pm__ en cierta posición corresponde al peso molecular del aminoácido de la lista amino en la misma posición."
   ],
   "cell_type": "markdown",
   "metadata": {}
  },
  {
   "cell_type": "code",
   "execution_count": 3,
   "metadata": {},
   "outputs": [
    {
     "output_type": "stream",
     "name": "stdout",
     "text": [
      "El peso molecular de K es 146.1882 gr/mol.\n"
     ]
    }
   ],
   "source": [
    "print(\"El peso molecular de\", amino[2], \"es\", pm[2], \"gr/mol.\")"
   ]
  },
  {
   "cell_type": "code",
   "execution_count": null,
   "metadata": {},
   "outputs": [],
   "source": [
    "En lugar de tener dos listas separadas y recordar que el valor de una lista se corresponde con la otra.\n",
    "Podemmos construir un diccionario, donde la correspondencia es explícita y muy fácil de entender."
   ]
  },
  {
   "cell_type": "code",
   "execution_count": 3,
   "metadata": {},
   "outputs": [],
   "source": [
    "pesos_de_amino = {\n",
    "    'I': 131.1736 , # la clave 'I' está asociada al valor 131.1736.\n",
    "    'L': 131.1736 ,\n",
    "    'K': 146.1882 ,\n",
    "    'M': 149.2124 ,\n",
    "    'F': 165.1900 ,\n",
    "    'T': 119.1197 ,\n",
    "    'W': 204.2262 ,\n",
    "    'V': 117.1469 ,\n",
    "    'R': 174.2017 ,\n",
    "    'H': 155.1552 ,\n",
    "    'A': 89.0935 ,\n",
    "    'N': 132.1184 ,\n",
    "    'D': 133.1032 ,\n",
    "    'C': 121.1590 ,\n",
    "    'E': 147.1299 ,\n",
    "    'Q': 146.1451 ,\n",
    "    'G': 75.0669 ,\n",
    "    'P': 115.1310 ,\n",
    "    'S': 105.0930 ,\n",
    "    'Y': 181.189 \n",
    "}"
   ]
  },
  {
   "source": [
    "En este ejemplo, el código de los aminoácidos funciona como una clave (o etiqueta, o __key__) que sirve para acceder al valor que le corresponde."
   ],
   "cell_type": "markdown",
   "metadata": {}
  },
  {
   "source": [
    "Para recuperar el valor que le corresponde a una clave uso \\[ \\]"
   ],
   "cell_type": "markdown",
   "metadata": {}
  },
  {
   "cell_type": "code",
   "execution_count": 7,
   "metadata": {},
   "outputs": [
    {
     "output_type": "stream",
     "name": "stdout",
     "text": [
      "El peso molecular de K es 146.1882\n"
     ]
    }
   ],
   "source": [
    "print(\"El peso molecular de K es\", pesos_de_amino[\"K\"])"
   ]
  },
  {
   "source": [
    "Si quiero recuperar un valor con una clave que no existe en el diccionario, se genera un error (KeyError)."
   ],
   "cell_type": "markdown",
   "metadata": {}
  },
  {
   "cell_type": "code",
   "execution_count": 5,
   "metadata": {},
   "outputs": [
    {
     "output_type": "error",
     "ename": "KeyError",
     "evalue": "'O'",
     "traceback": [
      "\u001b[1;31m---------------------------------------------------------------------------\u001b[0m",
      "\u001b[1;31mKeyError\u001b[0m                                  Traceback (most recent call last)",
      "\u001b[1;32m<ipython-input-5-b44ed3dc3461>\u001b[0m in \u001b[0;36m<module>\u001b[1;34m\u001b[0m\n\u001b[1;32m----> 1\u001b[1;33m \u001b[0mprint\u001b[0m\u001b[1;33m(\u001b[0m\u001b[1;34m\"El peso molecular de O es\"\u001b[0m\u001b[1;33m,\u001b[0m \u001b[0mpesos_de_amino\u001b[0m\u001b[1;33m[\u001b[0m\u001b[1;34m\"O\"\u001b[0m\u001b[1;33m]\u001b[0m\u001b[1;33m)\u001b[0m\u001b[1;33m\u001b[0m\u001b[1;33m\u001b[0m\u001b[0m\n\u001b[0m",
      "\u001b[1;31mKeyError\u001b[0m: 'O'"
     ]
    }
   ],
   "source": [
    "print(\"El peso molecular de O es\", pesos_de_amino[\"O\"])"
   ]
  },
  {
   "cell_type": "code",
   "execution_count": null,
   "metadata": {},
   "outputs": [],
   "source": [
    "Las claves no tienen que ser __strings__. Pueden otras cosas, por ejemplo números."
   ]
  },
  {
   "cell_type": "code",
   "execution_count": 8,
   "metadata": {},
   "outputs": [
    {
     "output_type": "stream",
     "name": "stdout",
     "text": [
      "El número 1 se escribe: Uno\n"
     ]
    }
   ],
   "source": [
    "numero_en_palabras = {\n",
    "    1: 'Uno',\n",
    "    2: 'Dos',\n",
    "    3: 'Tres'\n",
    "}\n",
    "print(\"El número 1 se escribe:\", numero_en_palabras[1])"
   ]
  },
  {
   "cell_type": "code",
   "execution_count": null,
   "metadata": {},
   "outputs": [],
   "source": [
    "Para completar, hacer una función que calcula el peso molecular de una proteína, dada su secuencia."
   ]
  },
  {
   "cell_type": "code",
   "execution_count": 21,
   "metadata": {},
   "outputs": [
    {
     "output_type": "stream",
     "name": "stdout",
     "text": [
      "El peso molecular de MGQCCLPLPL es 1074.5252\n"
     ]
    }
   ],
   "source": [
    "def prot_pm(secuencia):\n",
    "    pm = 0\n",
    "    pass\n",
    "\n",
    "secuencia = \"MGQCCLPLPL\"\n",
    "print(\"El peso molecular de\", secuencia, \"es\", prot_pm(secuencia))"
   ]
  },
  {
   "source": [
    "## Algunos métodos y funciones de los diccionarios\n",
    "\n",
    "La función __list()__ aplicada a un diccionario permite obtener una lista con las claves."
   ],
   "cell_type": "code",
   "metadata": {},
   "execution_count": 1,
   "outputs": []
  },
  {
   "cell_type": "code",
   "execution_count": 11,
   "metadata": {},
   "outputs": [
    {
     "output_type": "stream",
     "name": "stdout",
     "text": [
      "Las claves son: ['I', 'L', 'K', 'M', 'F', 'T', 'W', 'V', 'R', 'H', 'A', 'N', 'D', 'C', 'E', 'Q', 'G', 'P', 'S', 'Y']\n"
     ]
    }
   ],
   "source": [
    "claves = list(pesos_de_amino)\n",
    "print(\"Las claves son:\", claves)"
   ]
  },
  {
   "source": [
    "El método __values()__ permite recuperar a todos los valores del diccionario."
   ],
   "cell_type": "markdown",
   "metadata": {}
  },
  {
   "cell_type": "code",
   "execution_count": 15,
   "metadata": {},
   "outputs": [
    {
     "output_type": "stream",
     "name": "stdout",
     "text": [
      "Los valores son: [131.1736, 131.1736, 146.1882, 149.2124, 165.19, 119.1197, 204.2262, 117.1469, 174.2017, 155.1552, 89.0935, 132.1184, 133.1032, 121.159, 147.1299, 146.1451, 75.0669, 115.131, 105.093, 181.189]\n"
     ]
    }
   ],
   "source": [
    "valores = list(pesos_de_amino.values())\n",
    "print(\"Los valores son:\", valores)"
   ]
  },
  {
   "source": [
    "Otra forma de recuperar un valor de un diccionario es con el método __.get()__."
   ],
   "cell_type": "markdown",
   "metadata": {}
  },
  {
   "cell_type": "code",
   "execution_count": 19,
   "metadata": {},
   "outputs": [
    {
     "output_type": "stream",
     "name": "stdout",
     "text": [
      "El peso molecular de la Alanina es 89.0935 gr/mol\n"
     ]
    }
   ],
   "source": [
    "print(\"El peso molecular de la Alanina es\", pesos_de_amino.get(\"A\"), \"gr/mol\")"
   ]
  },
  {
   "cell_type": "code",
   "execution_count": 22,
   "metadata": {},
   "outputs": [
    {
     "output_type": "stream",
     "name": "stdout",
     "text": [
      "El peso molecular de la Ornitina es None gr/mol\n"
     ]
    }
   ],
   "source": [
    "print(\"El peso molecular de la Ornitina es\", pesos_de_amino.get(\"O\"), \"gr/mol\")\n",
    "# La función .get() no genera un error si una clave no está presente. \n",
    "# En cambio devuelve None."
   ]
  },
  {
   "source": [
    "Es posible agregar nuevos elementos a un diccionario que ya existe."
   ],
   "cell_type": "markdown",
   "metadata": {}
  },
  {
   "cell_type": "code",
   "execution_count": null,
   "metadata": {},
   "outputs": [],
   "source": [
    "pesos_de_amino[\"U\"] = 167.06 # U es Selenocisteina"
   ]
  }
 ]
}