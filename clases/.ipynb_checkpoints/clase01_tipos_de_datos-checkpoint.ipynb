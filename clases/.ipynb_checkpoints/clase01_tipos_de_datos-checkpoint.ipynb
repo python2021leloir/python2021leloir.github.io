{
 "cells": [
  {
   "cell_type": "markdown",
   "metadata": {},
   "source": [
    "# Python para Bionformática\n",
    "\n",
    "## Clase de los días 1 y 2, ver donde hacer el corte.\n",
    "\n",
    "[![Open In Colab](https://colab.research.google.com/assets/colab-badge.svg)](https://colab.research.google.com/github/Ferorti/escuela2021/blob/main/clases/clase01_tipos_de_datos.ipynb)\n",
    "\n",
    "### Secciones\n",
    "\n",
    "* Python como calculadora para que usen las celdas por primera vez\n",
    "* Operadores matematicos\n",
    "* Qué es una variable\n",
    "* Tipos de datos de datos:\n",
    " * numéricos\n",
    " * booleanos\n",
    " * strings\n"
   ]
  },
  {
   "cell_type": "markdown",
   "metadata": {},
   "source": [
    "---"
   ]
  },
  {
   "cell_type": "markdown",
   "metadata": {},
   "source": [
    "Algunas cuentitas con Python:"
   ]
  },
  {
   "cell_type": "code",
   "execution_count": 3,
   "metadata": {},
   "outputs": [
    {
     "data": {
      "text/plain": [
       "3"
      ]
     },
     "execution_count": 3,
     "metadata": {},
     "output_type": "execute_result"
    }
   ],
   "source": [
    "3 "
   ]
  },
  {
   "cell_type": "code",
   "execution_count": 10,
   "metadata": {},
   "outputs": [
    {
     "data": {
      "text/plain": [
       "40"
      ]
     },
     "execution_count": 10,
     "metadata": {},
     "output_type": "execute_result"
    }
   ],
   "source": [
    "4 * 10"
   ]
  },
  {
   "cell_type": "code",
   "execution_count": 15,
   "metadata": {},
   "outputs": [
    {
     "data": {
      "text/plain": [
       "100000000000000"
      ]
     },
     "execution_count": 15,
     "metadata": {},
     "output_type": "execute_result"
    }
   ],
   "source": [
    "10 ** (10 + 4)"
   ]
  },
  {
   "cell_type": "code",
   "execution_count": 9,
   "metadata": {},
   "outputs": [
    {
     "data": {
      "text/plain": [
       "2.5"
      ]
     },
     "execution_count": 9,
     "metadata": {},
     "output_type": "execute_result"
    }
   ],
   "source": [
    "(12 - 2) * 2 / (10 - 2)"
   ]
  },
  {
   "cell_type": "markdown",
   "metadata": {},
   "source": [
    "Si quiero guardar el resultado de una cuenta? Lo asignamos a una variable.\n",
    "\n",
    "una variable es una etiqueta que utilizamos para referenciar al valor.\n",
    "\n",
    "* pueden incluir letras, numeros y guiones bajos (_)\n",
    "* no pueden empezar con un numero\n",
    "* son case sensitive (diferencia entre mayuscula y minusculas)"
   ]
  },
  {
   "cell_type": "markdown",
   "metadata": {},
   "source": [
    "Ahora podemos hacer cuentas con el nombre de la variable pi en lugar de hacerlo con el valor:"
   ]
  },
  {
   "cell_type": "code",
   "execution_count": 1,
   "metadata": {},
   "outputs": [],
   "source": [
    "pi = 3.14"
   ]
  },
  {
   "cell_type": "markdown",
   "metadata": {},
   "source": [
    "![](../images/svg/variable.svg)"
   ]
  },
  {
   "cell_type": "markdown",
   "metadata": {},
   "source": [
    "y realizar operaciones con la variable"
   ]
  },
  {
   "cell_type": "code",
   "execution_count": 18,
   "metadata": {},
   "outputs": [
    {
     "data": {
      "text/plain": [
       "62.8318"
      ]
     },
     "execution_count": 18,
     "metadata": {},
     "output_type": "execute_result"
    }
   ],
   "source": [
    "20 * pi"
   ]
  },
  {
   "cell_type": "markdown",
   "metadata": {},
   "source": [
    "calcular (y guardar) el área de un círculo de diametro 20."
   ]
  },
  {
   "cell_type": "code",
   "execution_count": 41,
   "metadata": {},
   "outputs": [],
   "source": [
    "area = pi * (50 / 2) ** 2 # Area de un círculo de di+ametro 20"
   ]
  },
  {
   "cell_type": "code",
   "execution_count": 27,
   "metadata": {},
   "outputs": [],
   "source": [
    "diametro = 50\n",
    "radio = diametro / 2\n",
    "area = pi * radio ** 2"
   ]
  },
  {
   "cell_type": "markdown",
   "metadata": {},
   "source": [
    "Si queremos imprimir en pantalla el valor de una variable podemos hacerlo con la función print():\n",
    "```python\n",
    "print(variable)\n",
    "```\n",
    "* impriman en la pantalla las variables diametro, radio, y area :)"
   ]
  },
  {
   "cell_type": "markdown",
   "metadata": {},
   "source": []
  },
  {
   "cell_type": "markdown",
   "metadata": {},
   "source": [
    "En python podemos tener diferentes **tipos de datos**\n",
    "Los más simpleson:\n",
    "\n",
    "* Numéricos\n",
    "```python\n",
    "int:      3, 8, -12, 100\n",
    "float:    2.3, 0.01, -2,31\n",
    "complex:  2 + 3j \n",
    "```\n",
    "\n",
    "\n",
    "* Cadenas de texto (se escriben entre comillas )\n",
    "```python\n",
    "string:  'Texto', \"a\", '28', \"\", \"ATGTGCGTGGAAGATGCG\"\n",
    "    ```\n",
    "\n",
    "\n",
    "\n",
    "* Booleanos\n",
    "```python\n",
    "bool:     True, False```\n",
    "\n",
    "\n",
    "\n"
   ]
  },
  {
   "cell_type": "code",
   "execution_count": 37,
   "metadata": {},
   "outputs": [],
   "source": [
    "entero = 2021\n",
    "flotante = pi\n",
    "texto = \"ATGTGCGTGGAAGATGCG\""
   ]
  },
  {
   "cell_type": "code",
   "execution_count": 42,
   "metadata": {},
   "outputs": [
    {
     "name": "stdout",
     "output_type": "stream",
     "text": [
      "2021 3.14159 ATGTGCGTGGAAGATGCG\n"
     ]
    }
   ],
   "source": [
    "print(entero, flotante, texto) # la función print nos permite imprimir más de un elemento"
   ]
  },
  {
   "cell_type": "markdown",
   "metadata": {},
   "source": [
    "\n",
    "Para conocer el tipo de dato de un valor o una variable utilizamos la función type():"
   ]
  },
  {
   "cell_type": "code",
   "execution_count": 34,
   "metadata": {},
   "outputs": [
    {
     "data": {
      "text/plain": [
       "float"
      ]
     },
     "execution_count": 34,
     "metadata": {},
     "output_type": "execute_result"
    }
   ],
   "source": [
    "type(pi)"
   ]
  },
  {
   "cell_type": "code",
   "execution_count": 36,
   "metadata": {},
   "outputs": [
    {
     "name": "stdout",
     "output_type": "stream",
     "text": [
      "<class 'int'>\n"
     ]
    },
    {
     "data": {
      "text/plain": [
       "str"
      ]
     },
     "execution_count": 36,
     "metadata": {},
     "output_type": "execute_result"
    }
   ],
   "source": [
    "print(type(100))\n",
    "print(type())\n",
    "print(type(\"Txt\"))"
   ]
  },
  {
   "cell_type": "markdown",
   "metadata": {},
   "source": [
    "En python, los operadores y las funciones que podamos utilizar sobre un dato va a depender de su tipo.\n",
    "+ Qué tipo de dato obtenemos de sumar dos enteros?\n",
    "+ Qué tipo de dato obtenemos de divir un entero por otro entero?\n",
    "+ Podremos sumar dos cadenas de texto?"
   ]
  },
  {
   "cell_type": "code",
   "execution_count": 45,
   "metadata": {},
   "outputs": [
    {
     "name": "stdout",
     "output_type": "stream",
     "text": [
      "<class 'int'>\n",
      "<class 'float'>\n"
     ]
    }
   ],
   "source": [
    "suma = 9 + 2\n",
    "div = 9 / 2\n",
    "\n",
    "print(type(suma))\n",
    "print(type(div))"
   ]
  },
  {
   "cell_type": "code",
   "execution_count": 49,
   "metadata": {},
   "outputs": [
    {
     "name": "stdout",
     "output_type": "stream",
     "text": [
      "4.0 <class 'float'>\n"
     ]
    }
   ],
   "source": [
    "# el float es porque la division no es exacta?\n",
    "div = 8/2\n",
    "print(div, type(div))"
   ]
  },
  {
   "cell_type": "code",
   "execution_count": 50,
   "metadata": {},
   "outputs": [
    {
     "data": {
      "text/plain": [
       "55"
      ]
     },
     "execution_count": 50,
     "metadata": {},
     "output_type": "execute_result"
    }
   ],
   "source": [
    "45 + 10"
   ]
  },
  {
   "cell_type": "code",
   "execution_count": 51,
   "metadata": {},
   "outputs": [
    {
     "data": {
      "text/plain": [
       "'4510'"
      ]
     },
     "execution_count": 51,
     "metadata": {},
     "output_type": "execute_result"
    }
   ],
   "source": [
    "'45' + '10' "
   ]
  },
  {
   "cell_type": "code",
   "execution_count": null,
   "metadata": {},
   "outputs": [],
   "source": [
    "El operador suma + suma algebraicamente dos enteros y concatena dos strings."
   ]
  },
  {
   "cell_type": "code",
   "execution_count": 52,
   "metadata": {},
   "outputs": [],
   "source": [
    "# Qué pasa si \"sumo\" un entero y un string?"
   ]
  },
  {
   "cell_type": "code",
   "execution_count": 53,
   "metadata": {},
   "outputs": [
    {
     "ename": "TypeError",
     "evalue": "unsupported operand type(s) for +: 'int' and 'str'",
     "output_type": "error",
     "traceback": [
      "\u001b[0;31m---------------------------------------------------------------------------\u001b[0m",
      "\u001b[0;31mTypeError\u001b[0m                                 Traceback (most recent call last)",
      "\u001b[0;32m<ipython-input-53-70f3accf862c>\u001b[0m in \u001b[0;36m<module>\u001b[0;34m\u001b[0m\n\u001b[0;32m----> 1\u001b[0;31m \u001b[0;36m45\u001b[0m \u001b[0;34m+\u001b[0m \u001b[0;34m'10'\u001b[0m\u001b[0;34m\u001b[0m\u001b[0;34m\u001b[0m\u001b[0m\n\u001b[0m",
      "\u001b[0;31mTypeError\u001b[0m: unsupported operand type(s) for +: 'int' and 'str'"
     ]
    }
   ],
   "source": [
    "45 + '10'"
   ]
  },
  {
   "cell_type": "markdown",
   "metadata": {},
   "source": [
    "El operador suma + hace la suma algebraica cuando se lo aplica sobre dos enteros mientras que sobre cadenas de texto las concatena."
   ]
  },
  {
   "cell_type": "markdown",
   "metadata": {},
   "source": [
    "En algunos casos es neceario convertir un tipo de dato en otro.\n",
    "Las funciones:\n",
    "+ int() convierte un valor a entero\n",
    "+ float() a flotante\n",
    "+ str() a string\n",
    "+ bool() a booleanos\n",
    "\n",
    "Esto no siempre es posible, depende el caso"
   ]
  },
  {
   "cell_type": "code",
   "execution_count": 59,
   "metadata": {},
   "outputs": [
    {
     "name": "stdout",
     "output_type": "stream",
     "text": [
      "55\n",
      "4510\n"
     ]
    }
   ],
   "source": [
    "print( 45 + int(\"10\"))\n",
    "print( \"45\" + str(\"10\"))"
   ]
  },
  {
   "cell_type": "code",
   "execution_count": 61,
   "metadata": {},
   "outputs": [
    {
     "ename": "ValueError",
     "evalue": "invalid literal for int() with base 10: 'treinta'",
     "output_type": "error",
     "traceback": [
      "\u001b[0;31m---------------------------------------------------------------------------\u001b[0m",
      "\u001b[0;31mValueError\u001b[0m                                Traceback (most recent call last)",
      "\u001b[0;32m<ipython-input-61-d6e1b6ee3daa>\u001b[0m in \u001b[0;36m<module>\u001b[0;34m\u001b[0m\n\u001b[0;32m----> 1\u001b[0;31m \u001b[0mint\u001b[0m\u001b[0;34m(\u001b[0m\u001b[0;34m\"treinta\"\u001b[0m\u001b[0;34m)\u001b[0m\u001b[0;34m\u001b[0m\u001b[0;34m\u001b[0m\u001b[0m\n\u001b[0m",
      "\u001b[0;31mValueError\u001b[0m: invalid literal for int() with base 10: 'treinta'"
     ]
    }
   ],
   "source": [
    "int(\"treinta\")"
   ]
  },
  {
   "cell_type": "markdown",
   "metadata": {},
   "source": [
    "* Ejercicio\n",
    "+ Convertir la palabra \"3.14\" a flotante y almacenar el resultado en una variable\n",
    "+ convetir valor obtenido a entero"
   ]
  },
  {
   "cell_type": "markdown",
   "metadata": {},
   "source": [
    "Ejercicio:"
   ]
  },
  {
   "cell_type": "markdown",
   "metadata": {},
   "source": [
    "1) Partiendo de:\n",
    "```python\n",
    "a = 1.0\n",
    "b = '1'\n",
    "c = '1.1'\n",
    "```\n",
    "En cuales de las siguientes opciones obtendríamos ``2.0`` como resultado?\n",
    "\n",
    "```python\n",
    "a + float(b)\n",
    "float(b) + float(c)\n",
    "a + int(c)\n",
    "a + int(float(c))\n",
    "int(a) + int(float(c))\n",
    "2.0 * b\n",
    "```\n"
   ]
  },
  {
   "cell_type": "markdown",
   "metadata": {},
   "source": [
    "---"
   ]
  },
  {
   "cell_type": "markdown",
   "metadata": {},
   "source": [
    "### Strings"
   ]
  },
  {
   "cell_type": "markdown",
   "metadata": {},
   "source": [
    "Como habíamos visto, los strings o cadenas de caracteres se declaran en python escribiendo el texto entre comillas simples '' o dobles \"\""
   ]
  },
  {
   "cell_type": "code",
   "execution_count": 8,
   "metadata": {},
   "outputs": [],
   "source": [
    "texto = \"Curso de Python\" # o 'Curso de Python'"
   ]
  },
  {
   "cell_type": "markdown",
   "metadata": {},
   "source": [
    "Los ``strings`` son secuencias **ordenadas** de caracteres.\n",
    "\n",
    "![](../images/svg/string1.svg)\n",
    "\n",
    "Es decir, podemos identificar cada caracter de la secuencia por su posición en el string, contando de izquierda a derecha.\n",
    "+ En este caso el primer caracter del string es \"C\"\n",
    "+ el segundo caracter es \"U\"\n",
    "+ el 8vo es \"e\"\n",
    "+ y el noveno es un espacio en blanco \" \"\n",
    "\n",
    "A la posición que tiene un elemento (en este caso un caracter) en una secuencia la denominamos **índice** o **index**\n",
    "\n",
    "Como en muchos otros lenguajes de programación, los índices comienzan con el 0 (el índice del primer elemento es 0, el del segundo es 1, y así...\n",
    "![](../images/svg/string3.svg)\n",
    "\n",
    "Para acceder a un caracter de un string utilizamos la notación de corchetes [ ] y el índice:"
   ]
  },
  {
   "cell_type": "code",
   "execution_count": 9,
   "metadata": {},
   "outputs": [
    {
     "data": {
      "text/plain": [
       "'C'"
      ]
     },
     "execution_count": 9,
     "metadata": {},
     "output_type": "execute_result"
    }
   ],
   "source": [
    "palabra[0] # Recordar que los índices comienzan con 0\n"
   ]
  },
  {
   "cell_type": "code",
   "execution_count": 10,
   "metadata": {},
   "outputs": [
    {
     "name": "stdout",
     "output_type": "stream",
     "text": [
      "C\n"
     ]
    }
   ],
   "source": [
    "primer_caracter = texto[0]\n",
    "print(primer_caracter)"
   ]
  },
  {
   "cell_type": "markdown",
   "metadata": {},
   "source": [
    "Imprimir en pantalla el primer, el segundo, el octavo y último caracter del string palabra."
   ]
  },
  {
   "cell_type": "code",
   "execution_count": null,
   "metadata": {},
   "outputs": [],
   "source": [
    "# completar\n",
    "\n"
   ]
  },
  {
   "cell_type": "markdown",
   "metadata": {},
   "source": [
    "Si bien podemos acceder al último caracter del string por su índice en caso el ``14``, python nos permite utilizar también los índices contando de derecha a izquierda.\n",
    "+ Al contar de derecha a izquierda se utiliza los números en negativo (agregandoles un ``-``) y se comienza de ``-1``\n",
    "\n",
    "![](../images/svg/string4.svg)"
   ]
  },
  {
   "cell_type": "markdown",
   "metadata": {},
   "source": [
    "Intentemos acceder ahora al primer, el segundo, el octavo y último caracter utilizando índices negativos."
   ]
  },
  {
   "cell_type": "code",
   "execution_count": 12,
   "metadata": {},
   "outputs": [],
   "source": [
    "# Completar"
   ]
  },
  {
   "cell_type": "markdown",
   "metadata": {},
   "source": [
    "Además de acceder a los caracteres, podemos obtener subsecuencias de un string.\n",
    "+ Para esto se utiliza también la notación de corchetes ``[ ]``, pero necesitamos dos índices que indiquen desde donde hasta donde queremos acceder, separadas con dos puntos ``:``.\n",
    "\n",
    "``palabra = texto[start:stop] ``"
   ]
  },
  {
   "cell_type": "markdown",
   "metadata": {},
   "source": [
    "el indice del caracter ``P`` es ``9`` y el de la ``n`` es ``14`` o ``-1 ``"
   ]
  },
  {
   "cell_type": "code",
   "execution_count": 18,
   "metadata": {},
   "outputs": [
    {
     "name": "stdout",
     "output_type": "stream",
     "text": [
      "P\n",
      "n\n"
     ]
    }
   ],
   "source": [
    "print(texto[9])\n",
    "print(texto[14])"
   ]
  },
  {
   "cell_type": "code",
   "execution_count": 21,
   "metadata": {},
   "outputs": [
    {
     "name": "stdout",
     "output_type": "stream",
     "text": [
      "Pytho\n"
     ]
    }
   ],
   "source": [
    "print(texto[9:14])"
   ]
  },
  {
   "cell_type": "markdown",
   "metadata": {},
   "source": [
    "Qué pasó?"
   ]
  },
  {
   "cell_type": "markdown",
   "metadata": {},
   "source": [
    "![](../images/svg/string7.svg)"
   ]
  },
  {
   "cell_type": "markdown",
   "metadata": {},
   "source": [
    "Ejercicio\n",
    "Imprimir en pantalla las palabras separadas (pueden obviar de y la)"
   ]
  },
  {
   "cell_type": "code",
   "execution_count": 25,
   "metadata": {},
   "outputs": [],
   "source": [
    "texto_largo = \"Quinta escuela de verano de bioinformatica de la A2B2C\"\n"
   ]
  },
  {
   "cell_type": "markdown",
   "metadata": {},
   "source": [
    "---"
   ]
  },
  {
   "cell_type": "markdown",
   "metadata": {},
   "source": [
    "### Booleanos"
   ]
  },
  {
   "cell_type": "markdown",
   "metadata": {},
   "source": [
    "El último tipo de datos que vamos a ver hoy son los booleanos.\n",
    "Son tipos de datos lógicos que permiten representar valores de lógica binarios:\n",
    "* ``True``\n",
    "* ``False``\n",
    "\n"
   ]
  },
  {
   "cell_type": "markdown",
   "metadata": {},
   "source": [
    "Los valores del tipo boleaano se escriben con la primer letra mayúscula y sin comillas:\n",
    "```python\n",
    "verdadero = True\n",
    "falso = False\n",
    "```"
   ]
  },
  {
   "cell_type": "markdown",
   "metadata": {},
   "source": [
    "utilizando ``and, or y not`` podemos operar con datos del tipo booleano, según las reglas lógicas:"
   ]
  },
  {
   "cell_type": "code",
   "execution_count": 26,
   "metadata": {},
   "outputs": [
    {
     "data": {
      "text/plain": [
       "True"
      ]
     },
     "execution_count": 26,
     "metadata": {},
     "output_type": "execute_result"
    }
   ],
   "source": [
    "True"
   ]
  },
  {
   "cell_type": "code",
   "execution_count": 27,
   "metadata": {},
   "outputs": [
    {
     "data": {
      "text/plain": [
       "False"
      ]
     },
     "execution_count": 27,
     "metadata": {},
     "output_type": "execute_result"
    }
   ],
   "source": [
    "not True "
   ]
  },
  {
   "cell_type": "code",
   "execution_count": 34,
   "metadata": {},
   "outputs": [
    {
     "name": "stdout",
     "output_type": "stream",
     "text": [
      "False or True: True\n",
      "True or True: True\n",
      "True and False: False\n",
      "not True: False\n"
     ]
    }
   ],
   "source": [
    "print('False or True:', False or True)\n",
    "print('True or True:', True or True)\n",
    "print('True and False:', True and False)\n",
    "print('not True:', not True)"
   ]
  },
  {
   "cell_type": "markdown",
   "metadata": {},
   "source": [
    "Es muy muy muy común querer comparar dos o más valores, para eso utilizamos los operadores de comparación:\n",
    "El resultado de estas comparaciones es un booleano"
   ]
  },
  {
   "cell_type": "code",
   "execution_count": 40,
   "metadata": {},
   "outputs": [
    {
     "name": "stdout",
     "output_type": "stream",
     "text": [
      "False\n",
      "<class 'bool'>\n"
     ]
    }
   ],
   "source": [
    "suma = 3 > 5\n",
    "print(suma)\n",
    "print(type(suma))"
   ]
  },
  {
   "cell_type": "code",
   "execution_count": 52,
   "metadata": {},
   "outputs": [
    {
     "name": "stdout",
     "output_type": "stream",
     "text": [
      "3 < 5:  True\n",
      "100 == 100 True\n"
     ]
    }
   ],
   "source": [
    "print('3 < 5: ', 3 < 5)\n",
    "print('100 == 100', 100 == 100)\n"
   ]
  },
  {
   "cell_type": "markdown",
   "metadata": {},
   "source": [
    "Por últmo (por ahora) se pueden combinar operadores lógicos con operadores de comparación:"
   ]
  },
  {
   "cell_type": "code",
   "execution_count": 53,
   "metadata": {},
   "outputs": [
    {
     "name": "stdout",
     "output_type": "stream",
     "text": [
      "100 == 100 and 10 < 5 False\n",
      "100 == 100 or 3 < 5 True\n"
     ]
    }
   ],
   "source": [
    "print('100 == 100 and 10 < 5', 100 == 100 and 10 < 5)\n",
    "print('100 == 100 or 3 < 5', 100 == 100 and 3 < 5)"
   ]
  },
  {
   "cell_type": "code",
   "execution_count": 50,
   "metadata": {},
   "outputs": [
    {
     "name": "stdout",
     "output_type": "stream",
     "text": [
      "True\n",
      "True\n"
     ]
    }
   ],
   "source": [
    "x = 10\n",
    "x_mayor_a_0 = x > 0\n",
    "letra = 'Z'\n",
    "letra_es_z = letra == \"Z\"\n",
    "print(x_mayor_a_0)\n",
    "print(letra_es_z)"
   ]
  },
  {
   "cell_type": "code",
   "execution_count": 51,
   "metadata": {},
   "outputs": [
    {
     "data": {
      "text/plain": [
       "True"
      ]
     },
     "execution_count": 51,
     "metadata": {},
     "output_type": "execute_result"
    }
   ],
   "source": [
    "x_mayor_a_0 and letra_es_z"
   ]
  },
  {
   "cell_type": "markdown",
   "metadata": {},
   "source": [
    "# FIN por ahora, buscar ejercicios"
   ]
  },
  {
   "cell_type": "code",
   "execution_count": null,
   "metadata": {},
   "outputs": [],
   "source": []
  }
 ],
 "metadata": {
  "kernelspec": {
   "display_name": "Python 3",
   "language": "python",
   "name": "python3"
  },
  "language_info": {
   "codemirror_mode": {
    "name": "ipython",
    "version": 3
   },
   "file_extension": ".py",
   "mimetype": "text/x-python",
   "name": "python",
   "nbconvert_exporter": "python",
   "pygments_lexer": "ipython3",
   "version": "3.8.3"
  }
 },
 "nbformat": 4,
 "nbformat_minor": 4
}
