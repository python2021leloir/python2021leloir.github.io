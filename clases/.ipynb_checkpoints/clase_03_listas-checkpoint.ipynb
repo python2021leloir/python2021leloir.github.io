{
 "cells": [
  {
   "cell_type": "markdown",
   "metadata": {},
   "source": [
    "## Listas"
   ]
  },
  {
   "cell_type": "markdown",
   "metadata": {},
   "source": [
    "#### Secciones\n",
    "* Que son las listas\n",
    "* Acciones comunes que hacemos con las listas\n",
    "* Metodos\n",
    " * .append() .insert() \n",
    " * .remove() .pop()\n",
    " * sorted() .sort()\n",
    "* slicing y concatenación\n",
    "* pertenecia de un elemento\n",
    "* Bucle For (introduccion)\n"
   ]
  },
  {
   "cell_type": "markdown",
   "metadata": {},
   "source": [
    "* Colección **ordenada** de elementos (datos)\n",
    "* Mutable (se pueden cambiar los elementos)"
   ]
  },
  {
   "cell_type": "markdown",
   "metadata": {},
   "source": [
    "Las listas se definen mediante corchetes [] con los elementos que conforman la lista separados por comas ,"
   ]
  },
  {
   "cell_type": "code",
   "execution_count": 43,
   "metadata": {},
   "outputs": [],
   "source": [
    "genes = ['P53', 'KRAS', 'BRCA1', 'CDKN2A', \"BRCA2\"]"
   ]
  },
  {
   "cell_type": "code",
   "execution_count": 29,
   "metadata": {},
   "outputs": [
    {
     "name": "stdout",
     "output_type": "stream",
     "text": [
      "['P53', 'KRAS', 'BRCA1', 'CDKN2A', 'BRCA2']\n",
      "<class 'list'>\n"
     ]
    }
   ],
   "source": [
    "print(genes)\n",
    "print(type(genes))"
   ]
  },
  {
   "cell_type": "markdown",
   "metadata": {},
   "source": [
    "### Qué podemos hacer con una lista?\n",
    "\n",
    "* Acceder a los elementos\n",
    "* Modificar elementos\n",
    "* Contar elementos\n",
    "* Agregar elementos\n",
    "* Quitar elementos\n",
    "* Ordenar la lista\n",
    "* Saber si un elemento está en la lista\n"
   ]
  },
  {
   "cell_type": "markdown",
   "metadata": {},
   "source": [
    "Utilizando los [ ] podemos acceder a los elementos de la lista según su posición (similar a como hicimos con los strings)"
   ]
  },
  {
   "cell_type": "code",
   "execution_count": 30,
   "metadata": {},
   "outputs": [
    {
     "name": "stdout",
     "output_type": "stream",
     "text": [
      "El tercer gen de la lista es: CDKN2A\n"
     ]
    }
   ],
   "source": [
    "print('El tercer gen de la lista es:', genes[3])\n"
   ]
  },
  {
   "cell_type": "markdown",
   "metadata": {},
   "source": [
    "Completar"
   ]
  },
  {
   "cell_type": "code",
   "execution_count": 31,
   "metadata": {},
   "outputs": [
    {
     "ename": "NameError",
     "evalue": "name '_____' is not defined",
     "output_type": "error",
     "traceback": [
      "\u001b[0;31m---------------------------------------------------------------------------\u001b[0m",
      "\u001b[0;31mNameError\u001b[0m                                 Traceback (most recent call last)",
      "\u001b[0;32m<ipython-input-31-0a7abf14e575>\u001b[0m in \u001b[0;36m<module>\u001b[0;34m\u001b[0m\n\u001b[0;32m----> 1\u001b[0;31m \u001b[0mprint\u001b[0m\u001b[0;34m(\u001b[0m\u001b[0;34m'El primer gen de la lista es:'\u001b[0m\u001b[0;34m,\u001b[0m \u001b[0m_____\u001b[0m \u001b[0;34m)\u001b[0m\u001b[0;34m\u001b[0m\u001b[0;34m\u001b[0m\u001b[0m\n\u001b[0m\u001b[1;32m      2\u001b[0m \u001b[0mprint\u001b[0m\u001b[0;34m(\u001b[0m\u001b[0;34m'El segundo gen de la lista es:'\u001b[0m\u001b[0;34m,\u001b[0m \u001b[0m_____\u001b[0m \u001b[0;34m)\u001b[0m\u001b[0;34m\u001b[0m\u001b[0;34m\u001b[0m\u001b[0m\n\u001b[1;32m      3\u001b[0m \u001b[0mprint\u001b[0m\u001b[0;34m(\u001b[0m\u001b[0;34m'El gen de la lista es:'\u001b[0m\u001b[0;34m,\u001b[0m \u001b[0mgenes\u001b[0m\u001b[0;34m[\u001b[0m\u001b[0m__\u001b[0m\u001b[0;34m]\u001b[0m\u001b[0;34m)\u001b[0m\u001b[0;34m\u001b[0m\u001b[0;34m\u001b[0m\u001b[0m\n",
      "\u001b[0;31mNameError\u001b[0m: name '_____' is not defined"
     ]
    }
   ],
   "source": [
    "print('El primer gen de la lista es:', _____ )\n",
    "print('El segundo gen de la lista es:', _____ )\n",
    "print('El anteúltimo gen de la lista es:', ____)\n"
   ]
  },
  {
   "cell_type": "markdown",
   "metadata": {},
   "source": [
    "Utilizando los índices y la asignación podemos modificar los elementos de la lista"
   ]
  },
  {
   "cell_type": "code",
   "execution_count": 32,
   "metadata": {},
   "outputs": [
    {
     "name": "stdout",
     "output_type": "stream",
     "text": [
      "['P53', 'KRAS', 'BRCA1', 'CDKN2A', 'BRCA2']\n"
     ]
    }
   ],
   "source": [
    "genes2 = genes.copy() # copiamos la lista para no modificar la original\n",
    "print(genes2)"
   ]
  },
  {
   "cell_type": "code",
   "execution_count": 33,
   "metadata": {},
   "outputs": [
    {
     "name": "stdout",
     "output_type": "stream",
     "text": [
      "['P53', 'KRAS', 'MYC', 'CDKN2A', 'BRCA2']\n"
     ]
    }
   ],
   "source": [
    "genes2[2] = 'MYC'\n",
    "print(genes2)"
   ]
  },
  {
   "cell_type": "code",
   "execution_count": 34,
   "metadata": {},
   "outputs": [
    {
     "name": "stdout",
     "output_type": "stream",
     "text": [
      "['BRCA2', 'KRAS', 'MYC', 'CDKN2A', 'BRCA2']\n"
     ]
    }
   ],
   "source": [
    "genes2[0] = genes[-1]\n",
    "print(genes2)"
   ]
  },
  {
   "cell_type": "code",
   "execution_count": null,
   "metadata": {},
   "outputs": [],
   "source": []
  },
  {
   "cell_type": "markdown",
   "metadata": {},
   "source": [
    "Para saber cuántos elementos contiene la lista usamos la función len( )"
   ]
  },
  {
   "cell_type": "code",
   "execution_count": 35,
   "metadata": {},
   "outputs": [
    {
     "name": "stdout",
     "output_type": "stream",
     "text": [
      "Tenemos 5 en la lista.\n"
     ]
    }
   ],
   "source": [
    "print('Tenemos', len(genes), 'en la lista.')"
   ]
  },
  {
   "cell_type": "code",
   "execution_count": 36,
   "metadata": {},
   "outputs": [
    {
     "name": "stdout",
     "output_type": "stream",
     "text": [
      "Tenemos 5 en la lista.\n"
     ]
    }
   ],
   "source": [
    "# recordemos que podemos asignar el largo de la lista a una variable para luego trabajar con ella\n",
    "cantidad_genes = len(genes)\n",
    "print('Tenemos', len(genes), 'en la lista.')"
   ]
  },
  {
   "cell_type": "markdown",
   "metadata": {},
   "source": [
    "Para agregar elementos a una lista tenemos dos métodos:\n",
    "* .append() > agrega un elemento al final de la lista\n",
    "* .insert() >  agrega un elemento en una determinada posición (tenemos que decirle donde va agregar el nuevo elemento)\n",
    "\n",
    "tener en cuenta que estamos agregando elementos a la lista original"
   ]
  },
  {
   "cell_type": "code",
   "execution_count": 44,
   "metadata": {},
   "outputs": [
    {
     "name": "stdout",
     "output_type": "stream",
     "text": [
      "['P53', 'KRAS', 'BRCA1', 'CDKN2A', 'BRCA2']\n",
      "['P53', 'KRAS', 'BRCA1', 'CDKN2A', 'BRCA2', 'RB1']\n"
     ]
    }
   ],
   "source": [
    "print(genes)\n",
    "genes.append('RB1')\n",
    "print(genes)"
   ]
  },
  {
   "cell_type": "code",
   "execution_count": 45,
   "metadata": {},
   "outputs": [
    {
     "name": "stdout",
     "output_type": "stream",
     "text": [
      "['P53', 'KRAS', 'BRCA1', 'EGFR', 'CDKN2A', 'BRCA2', 'RB1']\n"
     ]
    }
   ],
   "source": [
    "genes.insert(3, 'EGFR')\n",
    "print(genes)"
   ]
  },
  {
   "cell_type": "markdown",
   "metadata": {},
   "source": [
    "Para borrar elementos de la lista podemos utilizar:\n",
    "* .remove() Quita el elemento de la lista\n",
    "* .pop() Quita un elemento de la lista según la posición"
   ]
  },
  {
   "cell_type": "code",
   "execution_count": 38,
   "metadata": {},
   "outputs": [
    {
     "name": "stdout",
     "output_type": "stream",
     "text": [
      "['P53', 'KRAS', 'BRCA1', 'EGFR', 'CDKN2A', 'BRCA2', 'RB1']\n",
      "['P53', 'KRAS', 'BRCA1', 'EGFR', 'CDKN2A', 'RB1']\n"
     ]
    }
   ],
   "source": [
    "print(genes)\n",
    "genes.remove(\"BRCA2\")\n",
    "print(genes)"
   ]
  },
  {
   "cell_type": "code",
   "execution_count": 39,
   "metadata": {},
   "outputs": [
    {
     "name": "stdout",
     "output_type": "stream",
     "text": [
      "['P53', 'KRAS', 'BRCA1', 'EGFR', 'CDKN2A', 'RB1']\n"
     ]
    },
    {
     "data": {
      "text/plain": [
       "'EGFR'"
      ]
     },
     "execution_count": 39,
     "metadata": {},
     "output_type": "execute_result"
    }
   ],
   "source": [
    "print(genes)\n",
    "genes.pop(3)"
   ]
  },
  {
   "cell_type": "code",
   "execution_count": 40,
   "metadata": {},
   "outputs": [
    {
     "name": "stdout",
     "output_type": "stream",
     "text": [
      "['P53', 'KRAS', 'BRCA1', 'CDKN2A', 'RB1']\n",
      "['P53', 'KRAS', 'BRCA1', 'CDKN2A']\n"
     ]
    }
   ],
   "source": [
    "print(genes)\n",
    "genes.pop(-1)\n",
    "print(genes)"
   ]
  },
  {
   "cell_type": "code",
   "execution_count": 48,
   "metadata": {},
   "outputs": [],
   "source": [
    "genes = ['P53', 'KRAS', 'BRCA1', 'EGFR', 'CDKN2A', 'BRCA2', 'RB1']"
   ]
  },
  {
   "cell_type": "markdown",
   "metadata": {},
   "source": [
    "Ejercicio:\n",
    "Con los visto hasta ahora, a partir de las supresores y oncogenes genere la lista cancer_genes con los siguientes elementos:\n",
    "\n",
    "* P53\n",
    "* KRAS\n",
    "* BRCA1\n",
    "* EGFR\n",
    "* CDKN2A\n",
    "* BRCA2\n",
    "* EGFR\n",
    "\n",
    "No vale escribir los nombres de los genes, pueden crear variables (por ej: ``supresor3 = supresores[2]`` ) para ayudarse"
   ]
  },
  {
   "cell_type": "code",
   "execution_count": 50,
   "metadata": {},
   "outputs": [],
   "source": [
    "supresores = [\"APC\",\"VHL\", \"BRCA1\",\"DCC\",\"SMAD4\",\"CDKN2A\",\"SMAD2\",\"MEN1\", \"NF1\",\"P53\",\"PTEN\",\"NF2\",\"WT1\",\"BRCA2\"]\n",
    "oncogenes = [\"MCF2\",\"ALK\",\"EGFR\",\"HST\",\"ABL\",\"KRAS\",\"RET\",\"TSC2\",\"TRK\",\"MYC\"]\n",
    "# Completar \n",
    "\n",
    "# NO se, es medio falopa\n"
   ]
  },
  {
   "cell_type": "code",
   "execution_count": null,
   "metadata": {},
   "outputs": [],
   "source": []
  },
  {
   "cell_type": "code",
   "execution_count": null,
   "metadata": {},
   "outputs": [],
   "source": [
    "# Completar:\n",
    "\n",
    "genes.insert(__, ____)"
   ]
  },
  {
   "cell_type": "markdown",
   "metadata": {},
   "source": [
    "Para ordenar alfabeticamente o de menor a mayor los elementos de una lista podemos utilizar:\n",
    "* la función sorted( )\n",
    "* el método .sort( )"
   ]
  },
  {
   "cell_type": "code",
   "execution_count": 41,
   "metadata": {},
   "outputs": [
    {
     "name": "stdout",
     "output_type": "stream",
     "text": [
      "['BRCA1', 'CDKN2A', 'KRAS', 'P53']\n"
     ]
    }
   ],
   "source": [
    "print(sorted(genes))"
   ]
  },
  {
   "cell_type": "markdown",
   "metadata": {},
   "source": [
    "Como sería con sorted?\n"
   ]
  },
  {
   "cell_type": "code",
   "execution_count": 42,
   "metadata": {},
   "outputs": [
    {
     "name": "stdout",
     "output_type": "stream",
     "text": [
      "None\n"
     ]
    }
   ],
   "source": [
    "print(genes.sort())"
   ]
  },
  {
   "cell_type": "markdown",
   "metadata": {},
   "source": [
    "Qué paso?"
   ]
  },
  {
   "cell_type": "markdown",
   "metadata": {},
   "source": [
    "Diferencia entre sorted() y .sort()"
   ]
  },
  {
   "cell_type": "code",
   "execution_count": 37,
   "metadata": {},
   "outputs": [
    {
     "data": {
      "text/html": [
       "\n",
       "        <iframe\n",
       "            width=\"100%\"\n",
       "            height=\"500\"\n",
       "            src=\"https://htmlpreview.github.io/?https://raw.githubusercontent.com/Ferorti/escuela2019/master/pres.html\"\n",
       "            frameborder=\"0\"\n",
       "            allowfullscreen\n",
       "        ></iframe>\n",
       "        "
      ],
      "text/plain": [
       "<IPython.lib.display.IFrame at 0x7fdb8e7613a0>"
      ]
     },
     "metadata": {},
     "output_type": "display_data"
    }
   ],
   "source": [
    "from IPython.display import IFrame\n",
    "display(IFrame('https://htmlpreview.github.io/?https://raw.githubusercontent.com/Ferorti/escuela2019/master/pres.html', width='100%', height=500))"
   ]
  }
 ],
 "metadata": {
  "kernelspec": {
   "display_name": "Python 3",
   "language": "python",
   "name": "python3"
  },
  "language_info": {
   "codemirror_mode": {
    "name": "ipython",
    "version": 3
   },
   "file_extension": ".py",
   "mimetype": "text/x-python",
   "name": "python",
   "nbconvert_exporter": "python",
   "pygments_lexer": "ipython3",
   "version": "3.8.3"
  }
 },
 "nbformat": 4,
 "nbformat_minor": 4
}
