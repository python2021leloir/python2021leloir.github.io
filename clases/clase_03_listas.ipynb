{
 "cells": [
  {
   "cell_type": "markdown",
   "metadata": {},
   "source": [
    "# Listas\n",
    "\n",
    "[![Open In Colab](https://colab.research.google.com/assets/colab-badge.svg)](https://colab.research.google.com/github/Ferorti/escuela2021/blob/main/clases/clase_03_listas.ipynb)\n",
    "\n",
    "## Secciones\n",
    "* Que son las listas\n",
    "* Acciones comunes que hacemos con las listas\n",
    "* Métodos y funciones\n",
    "  * .append()\n",
    "  * .insert() \n",
    "  * .remove()\n",
    "  * .pop()\n",
    "  * sorted() y .sort()\n",
    "* slicing y concatenación\n",
    "* pertenecia de un elemento\n",
    "* Bucle For (introduccion)\n"
   ]
  },
  {
   "source": [
    "## ¿Qué es una lista?"
   ],
   "cell_type": "markdown",
   "metadata": {}
  },
  {
   "cell_type": "markdown",
   "metadata": {},
   "source": [
    "* Colección **ordenada** de elementos (datos)\n",
    "* Mutable (se pueden cambiar los elementos)"
   ]
  },
  {
   "cell_type": "markdown",
   "metadata": {},
   "source": [
    "Las listas se definen mediante corchetes [] con los elementos que conforman la lista separados por comas ,"
   ]
  },
  {
   "cell_type": "code",
   "execution_count": 2,
   "metadata": {},
   "outputs": [],
   "source": [
    "genes = ['P53', 'KRAS', 'BRCA1', 'CDKN2A', \"BRCA2\"]"
   ]
  },
  {
   "cell_type": "code",
   "execution_count": 5,
   "metadata": {},
   "outputs": [
    {
     "output_type": "stream",
     "name": "stdout",
     "text": [
      "['P53', 'KRAS', 'BRCA1', 'CDKN2A', 'BRCA2']\n<class 'list'>\n"
     ]
    }
   ],
   "source": [
    "print(genes)\n",
    "print(type(genes))"
   ]
  },
  {
   "cell_type": "markdown",
   "metadata": {},
   "source": [
    "### Qué podemos hacer con una lista?\n",
    "\n",
    "* Acceder a los elementos\n",
    "* Modificar elementos\n",
    "* Contar elementos\n",
    "* Agregar elementos\n",
    "* Quitar elementos\n",
    "* Ordenar la lista\n",
    "* Saber si un elemento está en la lista\n"
   ]
  },
  {
   "source": [
    "Utilizando los \\[ \\] podemos acceder a los elementos de la lista según su posición (similar a como hicimos con los strings)"
   ],
   "cell_type": "markdown",
   "metadata": {}
  },
  {
   "cell_type": "code",
   "execution_count": 6,
   "metadata": {},
   "outputs": [
    {
     "output_type": "stream",
     "name": "stdout",
     "text": [
      "El tercer gen de la lista es: BRCA1\n"
     ]
    }
   ],
   "source": [
    "print('El tercer gen de la lista es:', genes[2])\n",
    "# ¿Por qué uso el índice '2' si quiero acceder al tercer elemento?\n"
   ]
  },
  {
   "cell_type": "markdown",
   "metadata": {},
   "source": [
    "Completar"
   ]
  },
  {
   "cell_type": "code",
   "execution_count": 9,
   "metadata": {},
   "outputs": [
    {
     "output_type": "stream",
     "name": "stdout",
     "text": [
      "El primer gen de la lista es: P53\nEl segundo gen de la lista es: KRAS\nEl anteúltimo gen de la lista es: CDKN2A\n"
     ]
    }
   ],
   "source": [
    "print('El primer gen de la lista es:', ______ )\n",
    "print('El segundo gen de la lista es:', ______ )\n",
    "print('El anteúltimo gen de la lista es:', ______)\n"
   ]
  },
  {
   "cell_type": "markdown",
   "metadata": {},
   "source": [
    "Utilizando los índices y la asignación podemos modificar los elementos de la lista"
   ]
  },
  {
   "cell_type": "code",
   "execution_count": 32,
   "metadata": {},
   "outputs": [
    {
     "name": "stdout",
     "output_type": "stream",
     "text": [
      "['P53', 'KRAS', 'BRCA1', 'CDKN2A', 'BRCA2']\n"
     ]
    }
   ],
   "source": [
    "genes2 = genes.copy() # copiamos la lista para no modificar la original\n",
    "print(genes2)"
   ]
  },
  {
   "cell_type": "code",
   "execution_count": 33,
   "metadata": {},
   "outputs": [
    {
     "name": "stdout",
     "output_type": "stream",
     "text": [
      "['P53', 'KRAS', 'MYC', 'CDKN2A', 'BRCA2']\n"
     ]
    }
   ],
   "source": [
    "genes2[2] = 'MYC'\n",
    "print(genes2)"
   ]
  },
  {
   "cell_type": "code",
   "execution_count": 34,
   "metadata": {},
   "outputs": [
    {
     "name": "stdout",
     "output_type": "stream",
     "text": [
      "['BRCA2', 'KRAS', 'MYC', 'CDKN2A', 'BRCA2']\n"
     ]
    }
   ],
   "source": [
    "genes2[0] = genes[-1]\n",
    "print(genes2)"
   ]
  },
  {
   "cell_type": "code",
   "execution_count": null,
   "metadata": {},
   "outputs": [],
   "source": []
  },
  {
   "cell_type": "markdown",
   "metadata": {},
   "source": [
    "Para saber cuántos elementos contiene la lista usamos la función len( )"
   ]
  },
  {
   "cell_type": "code",
   "execution_count": 35,
   "metadata": {},
   "outputs": [
    {
     "name": "stdout",
     "output_type": "stream",
     "text": [
      "Tenemos 5 en la lista.\n"
     ]
    }
   ],
   "source": [
    "print('Tenemos', len(genes), 'en la lista.')"
   ]
  },
  {
   "cell_type": "code",
   "execution_count": 36,
   "metadata": {},
   "outputs": [
    {
     "name": "stdout",
     "output_type": "stream",
     "text": [
      "Tenemos 5 en la lista.\n"
     ]
    }
   ],
   "source": [
    "# recordemos que podemos asignar el largo de la lista a una variable para luego trabajar con ella\n",
    "cantidad_genes = len(genes)\n",
    "print('Tenemos', len(genes), 'en la lista.')"
   ]
  },
  {
   "cell_type": "markdown",
   "metadata": {},
   "source": [
    "Para agregar elementos a una lista tenemos dos métodos:\n",
    "* .append() > agrega un elemento al final de la lista\n",
    "* .insert() >  agrega un elemento en una determinada posición (tenemos que decirle donde va agregar el nuevo elemento)\n",
    "\n",
    "tener en cuenta que estamos agregando elementos a la lista original"
   ]
  },
  {
   "cell_type": "code",
   "execution_count": 44,
   "metadata": {},
   "outputs": [
    {
     "name": "stdout",
     "output_type": "stream",
     "text": [
      "['P53', 'KRAS', 'BRCA1', 'CDKN2A', 'BRCA2']\n",
      "['P53', 'KRAS', 'BRCA1', 'CDKN2A', 'BRCA2', 'RB1']\n"
     ]
    }
   ],
   "source": [
    "print(genes)\n",
    "genes.append('RB1')\n",
    "print(genes)"
   ]
  },
  {
   "cell_type": "code",
   "execution_count": 45,
   "metadata": {},
   "outputs": [
    {
     "name": "stdout",
     "output_type": "stream",
     "text": [
      "['P53', 'KRAS', 'BRCA1', 'EGFR', 'CDKN2A', 'BRCA2', 'RB1']\n"
     ]
    }
   ],
   "source": [
    "genes.insert(3, 'EGFR')\n",
    "print(genes)"
   ]
  },
  {
   "cell_type": "markdown",
   "metadata": {},
   "source": [
    "Para borrar elementos de la lista podemos utilizar:\n",
    "* .remove() Quita el elemento de la lista\n",
    "* .pop() Quita un elemento de la lista según la posición"
   ]
  },
  {
   "cell_type": "code",
   "execution_count": 38,
   "metadata": {},
   "outputs": [
    {
     "name": "stdout",
     "output_type": "stream",
     "text": [
      "['P53', 'KRAS', 'BRCA1', 'EGFR', 'CDKN2A', 'BRCA2', 'RB1']\n",
      "['P53', 'KRAS', 'BRCA1', 'EGFR', 'CDKN2A', 'RB1']\n"
     ]
    }
   ],
   "source": [
    "print(\"Antes:\", genes)\n",
    "genes.remove(\"BRCA2\")\n",
    "print(\"Después:\", genes)"
   ]
  },
  {
   "cell_type": "code",
   "execution_count": 39,
   "metadata": {},
   "outputs": [
    {
     "name": "stdout",
     "output_type": "stream",
     "text": [
      "['P53', 'KRAS', 'BRCA1', 'EGFR', 'CDKN2A', 'RB1']\n"
     ]
    },
    {
     "data": {
      "text/plain": [
       "'EGFR'"
      ]
     },
     "execution_count": 39,
     "metadata": {},
     "output_type": "execute_result"
    }
   ],
   "source": [
    "print(\"Antes:\", genes)\n",
    "genes.pop(3)\n",
    "print(\"Después:\", genes)"
   ]
  },
  {
   "cell_type": "code",
   "execution_count": 40,
   "metadata": {},
   "outputs": [
    {
     "name": "stdout",
     "output_type": "stream",
     "text": [
      "['P53', 'KRAS', 'BRCA1', 'CDKN2A', 'RB1']\n",
      "['P53', 'KRAS', 'BRCA1', 'CDKN2A']\n"
     ]
    }
   ],
   "source": [
    "print(genes)\n",
    "genes.pop(-1)\n",
    "print(genes)"
   ]
  },
  {
   "cell_type": "code",
   "execution_count": 48,
   "metadata": {},
   "outputs": [],
   "source": [
    "genes = ['P53', 'KRAS', 'BRCA1', 'EGFR', 'CDKN2A', 'BRCA2', 'RB1']"
   ]
  },
  {
   "cell_type": "markdown",
   "metadata": {},
   "source": [
    "Ejercicio:\n",
    "Con los visto hasta ahora, a partir de la listas __supresores__ y __oncogenes__ genere la lista cancer_genes con los siguientes elementos:\n",
    "\n",
    "* P53\n",
    "* KRAS\n",
    "* BRCA1\n",
    "* EGFR\n",
    "* CDKN2A\n",
    "* BRCA2\n",
    "* EGFR\n",
    "\n",
    "No vale escribir los nombres de los genes, pueden crear variables (por ej: ``supresores3 = supresores[2]`` ) para ayudarse"
   ]
  },
  {
   "cell_type": "code",
   "execution_count": 50,
   "metadata": {},
   "outputs": [],
   "source": [
    "supresores = [\"APC\", \"VHL\", \"BRCA1\", \"DCC\", \"SMAD4\", \"CDKN2A\", \"SMAD2\", \"MEN1\", \"NF1\", \"P53\", \"PTEN\", \"NF2\", \"WT1\", \"BRCA2\"]\n",
    "oncogenes = [\"MCF2\", \"ALK\", \"EGFR\", \"HST\", \"ABL\", \"KRAS\", \"RET\", \"TSC2\", \"TRK\", \"MYC\"]\n",
    "# Completar \n"
   ]
  },
  {
   "cell_type": "code",
   "execution_count": null,
   "metadata": {},
   "outputs": [],
   "source": [
    "# Completar:\n",
    "\n",
    "genes.insert(__, ____)"
   ]
  },
  {
   "source": [
    "## Ordenar listas"
   ],
   "cell_type": "markdown",
   "metadata": {}
  },
  {
   "cell_type": "markdown",
   "metadata": {},
   "source": [
    "Para ordenar alfabeticamente o de menor a mayor los elementos de una lista podemos utilizar:\n",
    "* la función __sorted()__\n",
    "* el método __.sort()__\n",
    "\n",
    "¿Por qué existen dos formas de hacerlo?\n",
    "\n",
    "- La función __sorted()__ crea una nueva copia ordenada de la lista.\n",
    "- El método __.sort()__ ordena la lista original, modificándola."
   ]
  },
  {
   "cell_type": "code",
   "execution_count": 41,
   "metadata": {},
   "outputs": [
    {
     "name": "stdout",
     "output_type": "stream",
     "text": [
      "['BRCA1', 'CDKN2A', 'KRAS', 'P53']\n"
     ]
    }
   ],
   "source": [
    "print(sorted(genes))"
   ]
  },
  {
   "cell_type": "markdown",
   "metadata": {},
   "source": [
    "¿Como sería con sorted?\n"
   ]
  },
  {
   "cell_type": "code",
   "execution_count": 42,
   "metadata": {},
   "outputs": [
    {
     "name": "stdout",
     "output_type": "stream",
     "text": [
      "None\n"
     ]
    }
   ],
   "source": [
    "print(genes.sort())"
   ]
  },
  {
   "cell_type": "markdown",
   "metadata": {},
   "source": [
    "Qué paso?"
   ]
  },
  {
   "source": [
    "## Sublistas\n",
    "\n",
    "Si ya tengo una lista creada, es muy fácil crear otra que tenga un parte de la primera (una sublista).\n",
    "\n",
    "A esta operación se la llama __slicing__.\n",
    "\n",
    "La sintáxis es idéntica a la usamos con los __strings__."
   ],
   "cell_type": "markdown",
   "metadata": {}
  },
  {
   "cell_type": "code",
   "execution_count": 18,
   "metadata": {},
   "outputs": [],
   "source": [
    "sublista_de_genes = genes[0:3]\n",
    "# ¿Cuantos elementos tiene sublista_de_genes?"
   ]
  },
  {
   "source": [
    "Para completar, hacer una sublista con los últimos tres elementos de la lista genes:"
   ],
   "cell_type": "markdown",
   "metadata": {}
  },
  {
   "cell_type": "code",
   "execution_count": 25,
   "metadata": {},
   "outputs": [],
   "source": []
  },
  {
   "source": [
    "## Recorrer una lista\n",
    "\n",
    "Es muy frecuente que si tenemos una lista querramos visitar cada elemento de esa lista y aplicar sobre ese elemento una función o ejecutar cierto código.\n",
    "\n",
    "Una forma de recorrer una lista (y otras estructuras de datos) es usando la palabra clave __for__.\n"
   ],
   "cell_type": "markdown",
   "metadata": {}
  },
  {
   "source": [
    "for gen in genes: \n",
    "    print(\"El gen\", gen, \"tiene\", len(gen), \"caracteres\") # Esta línea de código se ejecuta por cada elemento en la lista genes.\n",
    "#   | Notar el indentado\n"
   ],
   "cell_type": "code",
   "metadata": {},
   "execution_count": null,
   "outputs": []
  },
  {
   "cell_type": "code",
   "execution_count": 4,
   "metadata": {},
   "outputs": [
    {
     "output_type": "stream",
     "name": "stdout",
     "text": [
      "El gen P53 tiene la letra 'A'?... False\nEl gen KRAS tiene la letra 'A'?... True\nEl gen BRCA1 tiene la letra 'A'?... True\nEl gen CDKN2A tiene la letra 'A'?... True\nEl gen BRCA2 tiene la letra 'A'?... True\n"
     ]
    }
   ],
   "source": [
    "for gen in genes:\n",
    "    print(\"El gen\", gen, \"tiene la letra 'A'?...\", 'A' in gen)"
   ]
  },
  {
   "source": [
    "Para completar, recorrer una lista e imprimir el primer caracter de cada gen."
   ],
   "cell_type": "markdown",
   "metadata": {}
  },
  {
   "cell_type": "code",
   "execution_count": null,
   "metadata": {},
   "outputs": [],
   "source": []
  }
 ],
 "metadata": {
  "kernelspec": {
   "name": "python3",
   "display_name": "Python 3.9.0 64-bit ('venv')",
   "metadata": {
    "interpreter": {
     "hash": "7341b9afafe5a943debca8c76d79d051c693ad015f257acb1152bde5799729e2"
    }
   }
  },
  "language_info": {
   "codemirror_mode": {
    "name": "ipython",
    "version": 3
   },
   "file_extension": ".py",
   "mimetype": "text/x-python",
   "name": "python",
   "nbconvert_exporter": "python",
   "pygments_lexer": "ipython3",
   "version": "3.9.0-final"
  }
 },
 "nbformat": 4,
 "nbformat_minor": 4
}