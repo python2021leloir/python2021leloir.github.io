{
 "cells": [
  {
   "cell_type": "markdown",
   "metadata": {},
   "source": [
    "#### Secciones\n",
    "* Series (Breve introduccion para que entiendan mejor los dataframes\n",
    "* DataFrames\n",
    " * crear o cargar un df \n",
    " * primera exploracion de la estructura del df\n",
    " * subseting de columnas y filas\n",
    "* Primeros graficos exploratorios\n",
    "* Transformaciones\n",
    "* grouping y reshaping\n"
   ]
  },
  {
   "cell_type": "markdown",
   "metadata": {},
   "source": [
    "## Borrador"
   ]
  },
  {
   "cell_type": "markdown",
   "metadata": {},
   "source": [
    "### Series"
   ]
  },
  {
   "cell_type": "markdown",
   "metadata": {},
   "source": [
    "Ya vivmos que podemos trabajar con grupos de elementos utilizando listas, diccionarios y tuplas.\n",
    "En algunos casos trabajar con estos objetos puede ser lento o engorroso. \n",
    "por ejemplo tenemos una lista de números y queremos saber si son pares:"
   ]
  },
  {
   "cell_type": "code",
   "execution_count": 126,
   "metadata": {},
   "outputs": [
    {
     "name": "stdout",
     "output_type": "stream",
     "text": [
      "4 2000\n",
      "5 1000\n",
      "67 1000\n",
      "1235 1000\n",
      "75 1000\n",
      "423 3000\n",
      "23354 1000\n",
      "7 1000\n",
      "6 1000\n"
     ]
    }
   ],
   "source": [
    "n =  500\n",
    "numeros = [2,4,5,67,21,4323,356,231,1235,75,56,1,125,8456,121,3,423,3456,31,1235,75,5656747,\n",
    "           4,32,42,423,423,423,4,23354,47,5,867,83,22,423,423,4,23354,4724,312341,14, 7,23,6,34,212,67,\n",
    "           7,12313,53,6,676,7567,456,241235,365,756856] * n\n",
    "repeticiones = {}\n",
    "for numero in numeros:\n",
    "    if numero % 2 == 0:\n",
    "        pares.append(numero)\n",
    "    repeticiones[numero] = numeros.count(numero)\n",
    "pares\n",
    "for numero, rep in repeticiones.items():\n",
    "    if rep > n:\n",
    "        print(numero, rep)"
   ]
  },
  {
   "cell_type": "code",
   "execution_count": 136,
   "metadata": {},
   "outputs": [],
   "source": [
    "fibo = [0, 1, 1, 2, 3, 5, 8, 13, 21, 34]"
   ]
  },
  {
   "cell_type": "code",
   "execution_count": 142,
   "metadata": {},
   "outputs": [
    {
     "name": "stdout",
     "output_type": "stream",
     "text": [
      "0\n",
      "1\n",
      "1\n",
      "2\n",
      "3\n",
      "5\n",
      "8\n",
      "13\n",
      "21\n",
      "34\n"
     ]
    }
   ],
   "source": [
    "fibo2 = []\n",
    "for n in fibo:\n",
    "    print(n)\n",
    "    fibo2.append(n ** 2)"
   ]
  },
  {
   "cell_type": "markdown",
   "metadata": {},
   "source": [
    "### Pandas Series"
   ]
  },
  {
   "cell_type": "code",
   "execution_count": 147,
   "metadata": {},
   "outputs": [],
   "source": [
    "import pandas as pd"
   ]
  },
  {
   "cell_type": "code",
   "execution_count": 150,
   "metadata": {},
   "outputs": [
    {
     "name": "stdout",
     "output_type": "stream",
     "text": [
      "0     0\n",
      "1     1\n",
      "2     1\n",
      "3     2\n",
      "4     3\n",
      "5     5\n",
      "6     8\n",
      "7    13\n",
      "8    21\n",
      "9    34\n",
      "dtype: int64\n"
     ]
    }
   ],
   "source": [
    "fibo_serie = pd.Series(fibo)\n",
    "print(fibo_serie)"
   ]
  },
  {
   "cell_type": "code",
   "execution_count": 175,
   "metadata": {},
   "outputs": [
    {
     "data": {
      "text/plain": [
       "0     0\n",
       "1     1\n",
       "2     1\n",
       "3     2\n",
       "4     3\n",
       "5     5\n",
       "6     8\n",
       "7    13\n",
       "8    21\n",
       "9    34\n",
       "dtype: int64"
      ]
     },
     "execution_count": 175,
     "metadata": {},
     "output_type": "execute_result"
    }
   ],
   "source": [
    "fibo_serie"
   ]
  },
  {
   "cell_type": "code",
   "execution_count": 178,
   "metadata": {},
   "outputs": [
    {
     "data": {
      "text/plain": [
       "0    False\n",
       "1    False\n",
       "2    False\n",
       "3    False\n",
       "4    False\n",
       "5     True\n",
       "6    False\n",
       "7    False\n",
       "8    False\n",
       "9    False\n",
       "dtype: bool"
      ]
     },
     "execution_count": 178,
     "metadata": {},
     "output_type": "execute_result"
    }
   ],
   "source": [
    "fibo_serie == 5 # nos devuelve otra serie con valores True o False dependiendo los elementos de la serie que cumplen la condicion"
   ]
  },
  {
   "cell_type": "code",
   "execution_count": 194,
   "metadata": {},
   "outputs": [
    {
     "data": {
      "text/plain": [
       "0                200000\n",
       "1                400000\n",
       "2                500000\n",
       "3               6700000\n",
       "4               2100000\n",
       "               ...     \n",
       "28999995      756700000\n",
       "28999996       45600000\n",
       "28999997    24123500000\n",
       "28999998       36500000\n",
       "28999999    75685600000\n",
       "Length: 29000000, dtype: int64"
      ]
     },
     "execution_count": 194,
     "metadata": {},
     "output_type": "execute_result"
    }
   ],
   "source": [
    "serie * 100000"
   ]
  },
  {
   "cell_type": "markdown",
   "metadata": {},
   "source": [
    "### DataFrames"
   ]
  },
  {
   "cell_type": "code",
   "execution_count": 1,
   "metadata": {},
   "outputs": [],
   "source": [
    "import pandas as pd"
   ]
  },
  {
   "cell_type": "code",
   "execution_count": 5,
   "metadata": {},
   "outputs": [],
   "source": [
    "dataframe = pd.read_csv('../data/swiss_prot.tab', sep='\\t')"
   ]
  },
  {
   "cell_type": "code",
   "execution_count": 7,
   "metadata": {},
   "outputs": [],
   "source": [
    "df = dataframe"
   ]
  },
  {
   "cell_type": "code",
   "execution_count": 9,
   "metadata": {},
   "outputs": [
    {
     "data": {
      "text/plain": [
       "(20396, 9)"
      ]
     },
     "execution_count": 9,
     "metadata": {},
     "output_type": "execute_result"
    }
   ],
   "source": [
    "df.shape"
   ]
  },
  {
   "cell_type": "code",
   "execution_count": 10,
   "metadata": {},
   "outputs": [
    {
     "name": "stdout",
     "output_type": "stream",
     "text": [
      "<class 'pandas.core.frame.DataFrame'>\n",
      "RangeIndex: 20396 entries, 0 to 20395\n",
      "Data columns (total 9 columns):\n",
      " #   Column          Non-Null Count  Dtype \n",
      "---  ------          --------------  ----- \n",
      " 0   Entry           20396 non-null  object\n",
      " 1   Entry name      20396 non-null  object\n",
      " 2   Status          20396 non-null  object\n",
      " 3   Protein names   20396 non-null  object\n",
      " 4   Gene names      20255 non-null  object\n",
      " 5   Organism        20396 non-null  object\n",
      " 6   Length          20396 non-null  int64 \n",
      " 7   Features        20396 non-null  object\n",
      " 8   Interacts with  12064 non-null  object\n",
      "dtypes: int64(1), object(8)\n",
      "memory usage: 1.4+ MB\n"
     ]
    }
   ],
   "source": [
    "df.info()"
   ]
  },
  {
   "cell_type": "code",
   "execution_count": 14,
   "metadata": {},
   "outputs": [],
   "source": [
    "data = pd.read_csv('https://covid.ourworldindata.org/data/owid-covid-data.csv')"
   ]
  },
  {
   "cell_type": "code",
   "execution_count": 35,
   "metadata": {},
   "outputs": [],
   "source": [
    "df = data.loc[data.date == \"2021-02-18\"]"
   ]
  },
  {
   "cell_type": "code",
   "execution_count": 36,
   "metadata": {},
   "outputs": [
    {
     "data": {
      "text/html": [
       "<div>\n",
       "<style scoped>\n",
       "    .dataframe tbody tr th:only-of-type {\n",
       "        vertical-align: middle;\n",
       "    }\n",
       "\n",
       "    .dataframe tbody tr th {\n",
       "        vertical-align: top;\n",
       "    }\n",
       "\n",
       "    .dataframe thead th {\n",
       "        text-align: right;\n",
       "    }\n",
       "</style>\n",
       "<table border=\"1\" class=\"dataframe\">\n",
       "  <thead>\n",
       "    <tr style=\"text-align: right;\">\n",
       "      <th></th>\n",
       "      <th>iso_code</th>\n",
       "      <th>continent</th>\n",
       "      <th>location</th>\n",
       "      <th>date</th>\n",
       "      <th>total_cases</th>\n",
       "      <th>new_cases</th>\n",
       "      <th>new_cases_smoothed</th>\n",
       "      <th>total_deaths</th>\n",
       "      <th>new_deaths</th>\n",
       "      <th>new_deaths_smoothed</th>\n",
       "      <th>...</th>\n",
       "      <th>gdp_per_capita</th>\n",
       "      <th>extreme_poverty</th>\n",
       "      <th>cardiovasc_death_rate</th>\n",
       "      <th>diabetes_prevalence</th>\n",
       "      <th>female_smokers</th>\n",
       "      <th>male_smokers</th>\n",
       "      <th>handwashing_facilities</th>\n",
       "      <th>hospital_beds_per_thousand</th>\n",
       "      <th>life_expectancy</th>\n",
       "      <th>human_development_index</th>\n",
       "    </tr>\n",
       "  </thead>\n",
       "  <tbody>\n",
       "    <tr>\n",
       "      <th>360</th>\n",
       "      <td>AFG</td>\n",
       "      <td>Asia</td>\n",
       "      <td>Afghanistan</td>\n",
       "      <td>2021-02-18</td>\n",
       "      <td>55557.0</td>\n",
       "      <td>17.0</td>\n",
       "      <td>19.571</td>\n",
       "      <td>2430.0</td>\n",
       "      <td>2.0</td>\n",
       "      <td>1.571</td>\n",
       "      <td>...</td>\n",
       "      <td>1803.987</td>\n",
       "      <td>NaN</td>\n",
       "      <td>597.029</td>\n",
       "      <td>9.59</td>\n",
       "      <td>NaN</td>\n",
       "      <td>NaN</td>\n",
       "      <td>37.746</td>\n",
       "      <td>0.50</td>\n",
       "      <td>64.83</td>\n",
       "      <td>0.511</td>\n",
       "    </tr>\n",
       "    <tr>\n",
       "      <th>734</th>\n",
       "      <td>OWID_AFR</td>\n",
       "      <td>NaN</td>\n",
       "      <td>Africa</td>\n",
       "      <td>2021-02-18</td>\n",
       "      <td>3799304.0</td>\n",
       "      <td>13893.0</td>\n",
       "      <td>11613.000</td>\n",
       "      <td>100325.0</td>\n",
       "      <td>511.0</td>\n",
       "      <td>437.143</td>\n",
       "      <td>...</td>\n",
       "      <td>NaN</td>\n",
       "      <td>NaN</td>\n",
       "      <td>NaN</td>\n",
       "      <td>NaN</td>\n",
       "      <td>NaN</td>\n",
       "      <td>NaN</td>\n",
       "      <td>NaN</td>\n",
       "      <td>NaN</td>\n",
       "      <td>NaN</td>\n",
       "      <td>NaN</td>\n",
       "    </tr>\n",
       "    <tr>\n",
       "      <th>1096</th>\n",
       "      <td>ALB</td>\n",
       "      <td>Europe</td>\n",
       "      <td>Albania</td>\n",
       "      <td>2021-02-18</td>\n",
       "      <td>96838.0</td>\n",
       "      <td>1112.0</td>\n",
       "      <td>1008.857</td>\n",
       "      <td>1617.0</td>\n",
       "      <td>17.0</td>\n",
       "      <td>14.286</td>\n",
       "      <td>...</td>\n",
       "      <td>11803.431</td>\n",
       "      <td>1.1</td>\n",
       "      <td>304.195</td>\n",
       "      <td>10.08</td>\n",
       "      <td>7.1</td>\n",
       "      <td>51.2</td>\n",
       "      <td>NaN</td>\n",
       "      <td>2.89</td>\n",
       "      <td>78.57</td>\n",
       "      <td>0.795</td>\n",
       "    </tr>\n",
       "    <tr>\n",
       "      <th>1458</th>\n",
       "      <td>DZA</td>\n",
       "      <td>Africa</td>\n",
       "      <td>Algeria</td>\n",
       "      <td>2021-02-18</td>\n",
       "      <td>111418.0</td>\n",
       "      <td>171.0</td>\n",
       "      <td>195.571</td>\n",
       "      <td>2950.0</td>\n",
       "      <td>3.0</td>\n",
       "      <td>2.857</td>\n",
       "      <td>...</td>\n",
       "      <td>13913.839</td>\n",
       "      <td>0.5</td>\n",
       "      <td>278.364</td>\n",
       "      <td>6.73</td>\n",
       "      <td>0.7</td>\n",
       "      <td>30.4</td>\n",
       "      <td>83.741</td>\n",
       "      <td>1.90</td>\n",
       "      <td>76.88</td>\n",
       "      <td>0.748</td>\n",
       "    </tr>\n",
       "    <tr>\n",
       "      <th>1814</th>\n",
       "      <td>AND</td>\n",
       "      <td>Europe</td>\n",
       "      <td>Andorra</td>\n",
       "      <td>2021-02-18</td>\n",
       "      <td>10610.0</td>\n",
       "      <td>27.0</td>\n",
       "      <td>31.286</td>\n",
       "      <td>107.0</td>\n",
       "      <td>0.0</td>\n",
       "      <td>0.143</td>\n",
       "      <td>...</td>\n",
       "      <td>NaN</td>\n",
       "      <td>NaN</td>\n",
       "      <td>109.135</td>\n",
       "      <td>7.97</td>\n",
       "      <td>29.0</td>\n",
       "      <td>37.8</td>\n",
       "      <td>NaN</td>\n",
       "      <td>NaN</td>\n",
       "      <td>83.73</td>\n",
       "      <td>0.868</td>\n",
       "    </tr>\n",
       "  </tbody>\n",
       "</table>\n",
       "<p>5 rows × 59 columns</p>\n",
       "</div>"
      ],
      "text/plain": [
       "      iso_code continent     location        date  total_cases  new_cases  \\\n",
       "360        AFG      Asia  Afghanistan  2021-02-18      55557.0       17.0   \n",
       "734   OWID_AFR       NaN       Africa  2021-02-18    3799304.0    13893.0   \n",
       "1096       ALB    Europe      Albania  2021-02-18      96838.0     1112.0   \n",
       "1458       DZA    Africa      Algeria  2021-02-18     111418.0      171.0   \n",
       "1814       AND    Europe      Andorra  2021-02-18      10610.0       27.0   \n",
       "\n",
       "      new_cases_smoothed  total_deaths  new_deaths  new_deaths_smoothed  ...  \\\n",
       "360               19.571        2430.0         2.0                1.571  ...   \n",
       "734            11613.000      100325.0       511.0              437.143  ...   \n",
       "1096            1008.857        1617.0        17.0               14.286  ...   \n",
       "1458             195.571        2950.0         3.0                2.857  ...   \n",
       "1814              31.286         107.0         0.0                0.143  ...   \n",
       "\n",
       "      gdp_per_capita  extreme_poverty  cardiovasc_death_rate  \\\n",
       "360         1803.987              NaN                597.029   \n",
       "734              NaN              NaN                    NaN   \n",
       "1096       11803.431              1.1                304.195   \n",
       "1458       13913.839              0.5                278.364   \n",
       "1814             NaN              NaN                109.135   \n",
       "\n",
       "      diabetes_prevalence  female_smokers  male_smokers  \\\n",
       "360                  9.59             NaN           NaN   \n",
       "734                   NaN             NaN           NaN   \n",
       "1096                10.08             7.1          51.2   \n",
       "1458                 6.73             0.7          30.4   \n",
       "1814                 7.97            29.0          37.8   \n",
       "\n",
       "      handwashing_facilities  hospital_beds_per_thousand  life_expectancy  \\\n",
       "360                   37.746                        0.50            64.83   \n",
       "734                      NaN                         NaN              NaN   \n",
       "1096                     NaN                        2.89            78.57   \n",
       "1458                  83.741                        1.90            76.88   \n",
       "1814                     NaN                         NaN            83.73   \n",
       "\n",
       "      human_development_index  \n",
       "360                     0.511  \n",
       "734                       NaN  \n",
       "1096                    0.795  \n",
       "1458                    0.748  \n",
       "1814                    0.868  \n",
       "\n",
       "[5 rows x 59 columns]"
      ]
     },
     "execution_count": 36,
     "metadata": {},
     "output_type": "execute_result"
    }
   ],
   "source": [
    "df.head()"
   ]
  },
  {
   "cell_type": "code",
   "execution_count": 55,
   "metadata": {},
   "outputs": [
    {
     "name": "stdout",
     "output_type": "stream",
     "text": [
      "<class 'pandas.core.frame.DataFrame'>\n",
      "Int64Index: 204 entries, 360 to 70220\n",
      "Data columns (total 59 columns):\n",
      " #   Column                                 Non-Null Count  Dtype  \n",
      "---  ------                                 --------------  -----  \n",
      " 0   iso_code                               204 non-null    object \n",
      " 1   continent                              195 non-null    object \n",
      " 2   location                               204 non-null    object \n",
      " 3   date                                   204 non-null    object \n",
      " 4   total_cases                            199 non-null    float64\n",
      " 5   new_cases                              199 non-null    float64\n",
      " 6   new_cases_smoothed                     199 non-null    float64\n",
      " 7   total_deaths                           188 non-null    float64\n",
      " 8   new_deaths                             188 non-null    float64\n",
      " 9   new_deaths_smoothed                    199 non-null    float64\n",
      " 10  total_cases_per_million                198 non-null    float64\n",
      " 11  new_cases_per_million                  198 non-null    float64\n",
      " 12  new_cases_smoothed_per_million         198 non-null    float64\n",
      " 13  total_deaths_per_million               187 non-null    float64\n",
      " 14  new_deaths_per_million                 187 non-null    float64\n",
      " 15  new_deaths_smoothed_per_million        198 non-null    float64\n",
      " 16  reproduction_rate                      181 non-null    float64\n",
      " 17  icu_patients                           3 non-null      float64\n",
      " 18  icu_patients_per_million               3 non-null      float64\n",
      " 19  hosp_patients                          3 non-null      float64\n",
      " 20  hosp_patients_per_million              3 non-null      float64\n",
      " 21  weekly_icu_admissions                  0 non-null      float64\n",
      " 22  weekly_icu_admissions_per_million      0 non-null      float64\n",
      " 23  weekly_hosp_admissions                 0 non-null      float64\n",
      " 24  weekly_hosp_admissions_per_million     0 non-null      float64\n",
      " 25  new_tests                              42 non-null     float64\n",
      " 26  total_tests                            41 non-null     float64\n",
      " 27  total_tests_per_thousand               41 non-null     float64\n",
      " 28  new_tests_per_thousand                 42 non-null     float64\n",
      " 29  new_tests_smoothed                     42 non-null     float64\n",
      " 30  new_tests_smoothed_per_thousand        42 non-null     float64\n",
      " 31  positive_rate                          41 non-null     float64\n",
      " 32  tests_per_case                         40 non-null     float64\n",
      " 33  tests_units                            43 non-null     object \n",
      " 34  total_vaccinations                     55 non-null     float64\n",
      " 35  people_vaccinated                      45 non-null     float64\n",
      " 36  people_fully_vaccinated                41 non-null     float64\n",
      " 37  new_vaccinations                       50 non-null     float64\n",
      " 38  new_vaccinations_smoothed              59 non-null     float64\n",
      " 39  total_vaccinations_per_hundred         55 non-null     float64\n",
      " 40  people_vaccinated_per_hundred          45 non-null     float64\n",
      " 41  people_fully_vaccinated_per_hundred    41 non-null     float64\n",
      " 42  new_vaccinations_smoothed_per_million  59 non-null     float64\n",
      " 43  stringency_index                       17 non-null     float64\n",
      " 44  population                             203 non-null    float64\n",
      " 45  population_density                     191 non-null    float64\n",
      " 46  median_age                             183 non-null    float64\n",
      " 47  aged_65_older                          181 non-null    float64\n",
      " 48  aged_70_older                          182 non-null    float64\n",
      " 49  gdp_per_capita                         185 non-null    float64\n",
      " 50  extreme_poverty                        125 non-null    float64\n",
      " 51  cardiovasc_death_rate                  185 non-null    float64\n",
      " 52  diabetes_prevalence                    188 non-null    float64\n",
      " 53  female_smokers                         143 non-null    float64\n",
      " 54  male_smokers                           141 non-null    float64\n",
      " 55  handwashing_facilities                 95 non-null     float64\n",
      " 56  hospital_beds_per_thousand             167 non-null    float64\n",
      " 57  life_expectancy                        194 non-null    float64\n",
      " 58  human_development_index                185 non-null    float64\n",
      "dtypes: float64(54), object(5)\n",
      "memory usage: 95.6+ KB\n"
     ]
    }
   ],
   "source": [
    "df.info()"
   ]
  },
  {
   "cell_type": "code",
   "execution_count": 62,
   "metadata": {},
   "outputs": [],
   "source": [
    "columnas_importantes = ['iso_code', 'continent', 'location', 'total_cases','new_cases', 'total_deaths', 'new_deaths', 'life_expectancy', 'hospital_beds_per_thousand','human_development_index', 'gdp_per_capita']"
   ]
  },
  {
   "cell_type": "code",
   "execution_count": 75,
   "metadata": {},
   "outputs": [],
   "source": [
    "# Quedarnos con un subset de columnas de la tabla\n",
    "subset1 = df.loc[: , columnas_importantes]  # version 1\n",
    "subset2 = df[columnas_importantes]          # version 2"
   ]
  },
  {
   "cell_type": "code",
   "execution_count": 80,
   "metadata": {},
   "outputs": [],
   "source": [
    "df = subset2.copy()"
   ]
  },
  {
   "cell_type": "code",
   "execution_count": 82,
   "metadata": {},
   "outputs": [
    {
     "data": {
      "text/html": [
       "<div>\n",
       "<style scoped>\n",
       "    .dataframe tbody tr th:only-of-type {\n",
       "        vertical-align: middle;\n",
       "    }\n",
       "\n",
       "    .dataframe tbody tr th {\n",
       "        vertical-align: top;\n",
       "    }\n",
       "\n",
       "    .dataframe thead th {\n",
       "        text-align: right;\n",
       "    }\n",
       "</style>\n",
       "<table border=\"1\" class=\"dataframe\">\n",
       "  <thead>\n",
       "    <tr style=\"text-align: right;\">\n",
       "      <th></th>\n",
       "      <th>iso_code</th>\n",
       "      <th>continent</th>\n",
       "      <th>location</th>\n",
       "      <th>total_cases</th>\n",
       "      <th>new_cases</th>\n",
       "      <th>total_deaths</th>\n",
       "      <th>new_deaths</th>\n",
       "      <th>life_expectancy</th>\n",
       "      <th>hospital_beds_per_thousand</th>\n",
       "      <th>human_development_index</th>\n",
       "      <th>gdp_per_capita</th>\n",
       "    </tr>\n",
       "  </thead>\n",
       "  <tbody>\n",
       "    <tr>\n",
       "      <th>360</th>\n",
       "      <td>AFG</td>\n",
       "      <td>Asia</td>\n",
       "      <td>Afghanistan</td>\n",
       "      <td>55557.0</td>\n",
       "      <td>17.0</td>\n",
       "      <td>2430.0</td>\n",
       "      <td>2.0</td>\n",
       "      <td>64.83</td>\n",
       "      <td>0.50</td>\n",
       "      <td>0.511</td>\n",
       "      <td>1803.987</td>\n",
       "    </tr>\n",
       "    <tr>\n",
       "      <th>734</th>\n",
       "      <td>OWID_AFR</td>\n",
       "      <td>NaN</td>\n",
       "      <td>Africa</td>\n",
       "      <td>3799304.0</td>\n",
       "      <td>13893.0</td>\n",
       "      <td>100325.0</td>\n",
       "      <td>511.0</td>\n",
       "      <td>NaN</td>\n",
       "      <td>NaN</td>\n",
       "      <td>NaN</td>\n",
       "      <td>NaN</td>\n",
       "    </tr>\n",
       "    <tr>\n",
       "      <th>1096</th>\n",
       "      <td>ALB</td>\n",
       "      <td>Europe</td>\n",
       "      <td>Albania</td>\n",
       "      <td>96838.0</td>\n",
       "      <td>1112.0</td>\n",
       "      <td>1617.0</td>\n",
       "      <td>17.0</td>\n",
       "      <td>78.57</td>\n",
       "      <td>2.89</td>\n",
       "      <td>0.795</td>\n",
       "      <td>11803.431</td>\n",
       "    </tr>\n",
       "    <tr>\n",
       "      <th>1458</th>\n",
       "      <td>DZA</td>\n",
       "      <td>Africa</td>\n",
       "      <td>Algeria</td>\n",
       "      <td>111418.0</td>\n",
       "      <td>171.0</td>\n",
       "      <td>2950.0</td>\n",
       "      <td>3.0</td>\n",
       "      <td>76.88</td>\n",
       "      <td>1.90</td>\n",
       "      <td>0.748</td>\n",
       "      <td>13913.839</td>\n",
       "    </tr>\n",
       "    <tr>\n",
       "      <th>1814</th>\n",
       "      <td>AND</td>\n",
       "      <td>Europe</td>\n",
       "      <td>Andorra</td>\n",
       "      <td>10610.0</td>\n",
       "      <td>27.0</td>\n",
       "      <td>107.0</td>\n",
       "      <td>0.0</td>\n",
       "      <td>83.73</td>\n",
       "      <td>NaN</td>\n",
       "      <td>0.868</td>\n",
       "      <td>NaN</td>\n",
       "    </tr>\n",
       "  </tbody>\n",
       "</table>\n",
       "</div>"
      ],
      "text/plain": [
       "      iso_code continent     location  total_cases  new_cases  total_deaths  \\\n",
       "360        AFG      Asia  Afghanistan      55557.0       17.0        2430.0   \n",
       "734   OWID_AFR       NaN       Africa    3799304.0    13893.0      100325.0   \n",
       "1096       ALB    Europe      Albania      96838.0     1112.0        1617.0   \n",
       "1458       DZA    Africa      Algeria     111418.0      171.0        2950.0   \n",
       "1814       AND    Europe      Andorra      10610.0       27.0         107.0   \n",
       "\n",
       "      new_deaths  life_expectancy  hospital_beds_per_thousand  \\\n",
       "360          2.0            64.83                        0.50   \n",
       "734        511.0              NaN                         NaN   \n",
       "1096        17.0            78.57                        2.89   \n",
       "1458         3.0            76.88                        1.90   \n",
       "1814         0.0            83.73                         NaN   \n",
       "\n",
       "      human_development_index  gdp_per_capita  \n",
       "360                     0.511        1803.987  \n",
       "734                       NaN             NaN  \n",
       "1096                    0.795       11803.431  \n",
       "1458                    0.748       13913.839  \n",
       "1814                    0.868             NaN  "
      ]
     },
     "execution_count": 82,
     "metadata": {},
     "output_type": "execute_result"
    }
   ],
   "source": [
    "df.head()"
   ]
  },
  {
   "cell_type": "code",
   "execution_count": 89,
   "metadata": {},
   "outputs": [
    {
     "name": "stdout",
     "output_type": "stream",
     "text": [
      "<class 'pandas.core.frame.DataFrame'>\n",
      "Int64Index: 204 entries, 360 to 70220\n",
      "Data columns (total 11 columns):\n",
      " #   Column                      Non-Null Count  Dtype  \n",
      "---  ------                      --------------  -----  \n",
      " 0   iso_code                    204 non-null    object \n",
      " 1   continent                   195 non-null    object \n",
      " 2   location                    204 non-null    object \n",
      " 3   total_cases                 199 non-null    float64\n",
      " 4   new_cases                   199 non-null    float64\n",
      " 5   total_deaths                188 non-null    float64\n",
      " 6   new_deaths                  188 non-null    float64\n",
      " 7   life_expectancy             194 non-null    float64\n",
      " 8   hospital_beds_per_thousand  167 non-null    float64\n",
      " 9   human_development_index     185 non-null    float64\n",
      " 10  gdp_per_capita              185 non-null    float64\n",
      "dtypes: float64(8), object(3)\n",
      "memory usage: 19.1+ KB\n"
     ]
    }
   ],
   "source": [
    "df.info()"
   ]
  },
  {
   "cell_type": "code",
   "execution_count": 95,
   "metadata": {},
   "outputs": [
    {
     "data": {
      "text/plain": [
       "360          17.0\n",
       "734       13893.0\n",
       "1096       1112.0\n",
       "1458        171.0\n",
       "1814         27.0\n",
       "           ...   \n",
       "68829        18.0\n",
       "69225    403198.0\n",
       "69542         3.0\n",
       "69882       790.0\n",
       "70220       120.0\n",
       "Name: new_cases, Length: 204, dtype: float64"
      ]
     },
     "execution_count": 95,
     "metadata": {},
     "output_type": "execute_result"
    }
   ],
   "source": [
    "df['new_cases']"
   ]
  },
  {
   "cell_type": "code",
   "execution_count": 101,
   "metadata": {},
   "outputs": [
    {
     "data": {
      "text/plain": [
       "2924      7671.0\n",
       "8344      1029.0\n",
       "9386     51879.0\n",
       "13335     3828.0\n",
       "14083     4824.0\n",
       "18962     1641.0\n",
       "27346       25.0\n",
       "49760     1369.0\n",
       "50112     7408.0\n",
       "60747        6.0\n",
       "67292      544.0\n",
       "68434      462.0\n",
       "Name: new_cases, dtype: float64"
      ]
     },
     "execution_count": 101,
     "metadata": {},
     "output_type": "execute_result"
    }
   ],
   "source": [
    "df.loc[df.continent == \"South America\", 'new_cases']"
   ]
  },
  {
   "cell_type": "code",
   "execution_count": 104,
   "metadata": {},
   "outputs": [],
   "source": [
    "df.set_index('location', inplace=True)"
   ]
  },
  {
   "cell_type": "code",
   "execution_count": 105,
   "metadata": {},
   "outputs": [
    {
     "data": {
      "text/html": [
       "<div>\n",
       "<style scoped>\n",
       "    .dataframe tbody tr th:only-of-type {\n",
       "        vertical-align: middle;\n",
       "    }\n",
       "\n",
       "    .dataframe tbody tr th {\n",
       "        vertical-align: top;\n",
       "    }\n",
       "\n",
       "    .dataframe thead th {\n",
       "        text-align: right;\n",
       "    }\n",
       "</style>\n",
       "<table border=\"1\" class=\"dataframe\">\n",
       "  <thead>\n",
       "    <tr style=\"text-align: right;\">\n",
       "      <th></th>\n",
       "      <th>iso_code</th>\n",
       "      <th>continent</th>\n",
       "      <th>total_cases</th>\n",
       "      <th>new_cases</th>\n",
       "      <th>total_deaths</th>\n",
       "      <th>new_deaths</th>\n",
       "      <th>life_expectancy</th>\n",
       "      <th>hospital_beds_per_thousand</th>\n",
       "      <th>human_development_index</th>\n",
       "      <th>gdp_per_capita</th>\n",
       "    </tr>\n",
       "    <tr>\n",
       "      <th>location</th>\n",
       "      <th></th>\n",
       "      <th></th>\n",
       "      <th></th>\n",
       "      <th></th>\n",
       "      <th></th>\n",
       "      <th></th>\n",
       "      <th></th>\n",
       "      <th></th>\n",
       "      <th></th>\n",
       "      <th></th>\n",
       "    </tr>\n",
       "  </thead>\n",
       "  <tbody>\n",
       "    <tr>\n",
       "      <th>Afghanistan</th>\n",
       "      <td>AFG</td>\n",
       "      <td>Asia</td>\n",
       "      <td>55557.0</td>\n",
       "      <td>17.0</td>\n",
       "      <td>2430.0</td>\n",
       "      <td>2.0</td>\n",
       "      <td>64.83</td>\n",
       "      <td>0.500</td>\n",
       "      <td>0.511</td>\n",
       "      <td>1803.987</td>\n",
       "    </tr>\n",
       "    <tr>\n",
       "      <th>Africa</th>\n",
       "      <td>OWID_AFR</td>\n",
       "      <td>NaN</td>\n",
       "      <td>3799304.0</td>\n",
       "      <td>13893.0</td>\n",
       "      <td>100325.0</td>\n",
       "      <td>511.0</td>\n",
       "      <td>NaN</td>\n",
       "      <td>NaN</td>\n",
       "      <td>NaN</td>\n",
       "      <td>NaN</td>\n",
       "    </tr>\n",
       "    <tr>\n",
       "      <th>Albania</th>\n",
       "      <td>ALB</td>\n",
       "      <td>Europe</td>\n",
       "      <td>96838.0</td>\n",
       "      <td>1112.0</td>\n",
       "      <td>1617.0</td>\n",
       "      <td>17.0</td>\n",
       "      <td>78.57</td>\n",
       "      <td>2.890</td>\n",
       "      <td>0.795</td>\n",
       "      <td>11803.431</td>\n",
       "    </tr>\n",
       "    <tr>\n",
       "      <th>Algeria</th>\n",
       "      <td>DZA</td>\n",
       "      <td>Africa</td>\n",
       "      <td>111418.0</td>\n",
       "      <td>171.0</td>\n",
       "      <td>2950.0</td>\n",
       "      <td>3.0</td>\n",
       "      <td>76.88</td>\n",
       "      <td>1.900</td>\n",
       "      <td>0.748</td>\n",
       "      <td>13913.839</td>\n",
       "    </tr>\n",
       "    <tr>\n",
       "      <th>Andorra</th>\n",
       "      <td>AND</td>\n",
       "      <td>Europe</td>\n",
       "      <td>10610.0</td>\n",
       "      <td>27.0</td>\n",
       "      <td>107.0</td>\n",
       "      <td>0.0</td>\n",
       "      <td>83.73</td>\n",
       "      <td>NaN</td>\n",
       "      <td>0.868</td>\n",
       "      <td>NaN</td>\n",
       "    </tr>\n",
       "    <tr>\n",
       "      <th>...</th>\n",
       "      <td>...</td>\n",
       "      <td>...</td>\n",
       "      <td>...</td>\n",
       "      <td>...</td>\n",
       "      <td>...</td>\n",
       "      <td>...</td>\n",
       "      <td>...</td>\n",
       "      <td>...</td>\n",
       "      <td>...</td>\n",
       "      <td>...</td>\n",
       "    </tr>\n",
       "    <tr>\n",
       "      <th>Vietnam</th>\n",
       "      <td>VNM</td>\n",
       "      <td>Asia</td>\n",
       "      <td>2347.0</td>\n",
       "      <td>18.0</td>\n",
       "      <td>35.0</td>\n",
       "      <td>0.0</td>\n",
       "      <td>75.40</td>\n",
       "      <td>2.600</td>\n",
       "      <td>0.704</td>\n",
       "      <td>6171.884</td>\n",
       "    </tr>\n",
       "    <tr>\n",
       "      <th>World</th>\n",
       "      <td>OWID_WRL</td>\n",
       "      <td>NaN</td>\n",
       "      <td>110306030.0</td>\n",
       "      <td>403198.0</td>\n",
       "      <td>2441598.0</td>\n",
       "      <td>11409.0</td>\n",
       "      <td>72.58</td>\n",
       "      <td>2.705</td>\n",
       "      <td>0.737</td>\n",
       "      <td>15469.207</td>\n",
       "    </tr>\n",
       "    <tr>\n",
       "      <th>Yemen</th>\n",
       "      <td>YEM</td>\n",
       "      <td>Asia</td>\n",
       "      <td>2154.0</td>\n",
       "      <td>3.0</td>\n",
       "      <td>618.0</td>\n",
       "      <td>0.0</td>\n",
       "      <td>66.12</td>\n",
       "      <td>0.700</td>\n",
       "      <td>0.470</td>\n",
       "      <td>1479.147</td>\n",
       "    </tr>\n",
       "    <tr>\n",
       "      <th>Zambia</th>\n",
       "      <td>ZMB</td>\n",
       "      <td>Africa</td>\n",
       "      <td>72467.0</td>\n",
       "      <td>790.0</td>\n",
       "      <td>991.0</td>\n",
       "      <td>8.0</td>\n",
       "      <td>63.89</td>\n",
       "      <td>2.000</td>\n",
       "      <td>0.584</td>\n",
       "      <td>3689.251</td>\n",
       "    </tr>\n",
       "    <tr>\n",
       "      <th>Zimbabwe</th>\n",
       "      <td>ZWE</td>\n",
       "      <td>Africa</td>\n",
       "      <td>35543.0</td>\n",
       "      <td>120.0</td>\n",
       "      <td>1420.0</td>\n",
       "      <td>2.0</td>\n",
       "      <td>61.49</td>\n",
       "      <td>1.700</td>\n",
       "      <td>0.571</td>\n",
       "      <td>1899.775</td>\n",
       "    </tr>\n",
       "  </tbody>\n",
       "</table>\n",
       "<p>204 rows × 10 columns</p>\n",
       "</div>"
      ],
      "text/plain": [
       "             iso_code continent  total_cases  new_cases  total_deaths  \\\n",
       "location                                                                \n",
       "Afghanistan       AFG      Asia      55557.0       17.0        2430.0   \n",
       "Africa       OWID_AFR       NaN    3799304.0    13893.0      100325.0   \n",
       "Albania           ALB    Europe      96838.0     1112.0        1617.0   \n",
       "Algeria           DZA    Africa     111418.0      171.0        2950.0   \n",
       "Andorra           AND    Europe      10610.0       27.0         107.0   \n",
       "...               ...       ...          ...        ...           ...   \n",
       "Vietnam           VNM      Asia       2347.0       18.0          35.0   \n",
       "World        OWID_WRL       NaN  110306030.0   403198.0     2441598.0   \n",
       "Yemen             YEM      Asia       2154.0        3.0         618.0   \n",
       "Zambia            ZMB    Africa      72467.0      790.0         991.0   \n",
       "Zimbabwe          ZWE    Africa      35543.0      120.0        1420.0   \n",
       "\n",
       "             new_deaths  life_expectancy  hospital_beds_per_thousand  \\\n",
       "location                                                               \n",
       "Afghanistan         2.0            64.83                       0.500   \n",
       "Africa            511.0              NaN                         NaN   \n",
       "Albania            17.0            78.57                       2.890   \n",
       "Algeria             3.0            76.88                       1.900   \n",
       "Andorra             0.0            83.73                         NaN   \n",
       "...                 ...              ...                         ...   \n",
       "Vietnam             0.0            75.40                       2.600   \n",
       "World           11409.0            72.58                       2.705   \n",
       "Yemen               0.0            66.12                       0.700   \n",
       "Zambia              8.0            63.89                       2.000   \n",
       "Zimbabwe            2.0            61.49                       1.700   \n",
       "\n",
       "             human_development_index  gdp_per_capita  \n",
       "location                                              \n",
       "Afghanistan                    0.511        1803.987  \n",
       "Africa                           NaN             NaN  \n",
       "Albania                        0.795       11803.431  \n",
       "Algeria                        0.748       13913.839  \n",
       "Andorra                        0.868             NaN  \n",
       "...                              ...             ...  \n",
       "Vietnam                        0.704        6171.884  \n",
       "World                          0.737       15469.207  \n",
       "Yemen                          0.470        1479.147  \n",
       "Zambia                         0.584        3689.251  \n",
       "Zimbabwe                       0.571        1899.775  \n",
       "\n",
       "[204 rows x 10 columns]"
      ]
     },
     "execution_count": 105,
     "metadata": {},
     "output_type": "execute_result"
    }
   ],
   "source": [
    "df"
   ]
  },
  {
   "cell_type": "code",
   "execution_count": 107,
   "metadata": {},
   "outputs": [],
   "source": [
    "nuevos_casos = df.loc[df.continent == \"South America\", 'new_cases']"
   ]
  },
  {
   "cell_type": "code",
   "execution_count": 112,
   "metadata": {},
   "outputs": [
    {
     "data": {
      "text/plain": [
       "<matplotlib.axes._subplots.AxesSubplot at 0x7fa16caa38e0>"
      ]
     },
     "execution_count": 112,
     "metadata": {},
     "output_type": "execute_result"
    },
    {
     "data": {
      "image/png": "[encoded data removed]",
      "text/plain": [
       "<Figure size 432x288 with 1 Axes>"
      ]
     },
     "metadata": {
      "needs_background": "light"
     },
     "output_type": "display_data"
    }
   ],
   "source": [
    "nuevos_casos.sort_values().plot.barh()"
   ]
  },
  {
   "cell_type": "code",
   "execution_count": null,
   "metadata": {},
   "outputs": [],
   "source": []
  }
 ],
 "metadata": {
  "kernelspec": {
   "display_name": "Python 3",
   "language": "python",
   "name": "python3"
  },
  "language_info": {
   "codemirror_mode": {
    "name": "ipython",
    "version": 3
   },
   "file_extension": ".py",
   "mimetype": "text/x-python",
   "name": "python",
   "nbconvert_exporter": "python",
   "pygments_lexer": "ipython3",
   "version": "3.8.3"
  }
 },
 "nbformat": 4,
 "nbformat_minor": 4
}
