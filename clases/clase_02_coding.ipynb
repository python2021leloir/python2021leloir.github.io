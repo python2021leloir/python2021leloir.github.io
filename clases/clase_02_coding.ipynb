{
 "cells": [
  {
   "cell_type": "markdown",
   "metadata": {},
   "source": [
    "## Funciones Built-in, errores y ayuda\n",
    "\n",
    "[![Open In Colab](https://colab.research.google.com/assets/colab-badge.svg)](https://colab.research.google.com/github/Ferorti/escuela2021/blob/main/clases/clase_02_coding.ipynb)"
   ]
  },
  {
   "cell_type": "markdown",
   "metadata": {},
   "source": [
    "Además de valores, variables y tipos de datos, ya vimos algunas cosas que todavía no explicamos."
   ]
  },
  {
   "cell_type": "markdown",
   "metadata": {},
   "source": [
    "#### Comentarios"
   ]
  },
  {
   "cell_type": "markdown",
   "metadata": {},
   "source": [
    "Además del codigo que queremos ejecutar, es altamente recomendable comentar/documentar el codigo para facilitar la interpretación del mismo.\n",
    "Al principio los comentarios pueden parece triviales, pero se vuelven fundamentales mientras se va complejizando el código.\n",
    "En python podemos comentar una linea con un ``#``.\n",
    "\n",
    "Todo lo que esté a la derecha del ``#`` será ignorado por el interprete"
   ]
  },
  {
   "cell_type": "code",
   "execution_count": 2,
   "metadata": {},
   "outputs": [
    {
     "name": "stdout",
     "output_type": "stream",
     "text": [
      "3.14\n"
     ]
    }
   ],
   "source": [
    "# Esta linea no sera ejecutada por el interprete de Python\n",
    "pi = 3.14 # Esta linea tampoco sera tenida en cuenta\n",
    "print(pi)"
   ]
  },
  {
   "cell_type": "markdown",
   "metadata": {},
   "source": [
    "Dentro de lo posible evitar comentarios que \"redundantes\" con el código:"
   ]
  },
  {
   "cell_type": "code",
   "execution_count": 3,
   "metadata": {},
   "outputs": [
    {
     "name": "stdout",
     "output_type": "stream",
     "text": [
      "3.14\n"
     ]
    }
   ],
   "source": [
    "# Defino cuanto vale pi\n",
    "pi = 3.14 # Pi es igual a 3.14\n",
    "print(pi) # Imprimo el valor"
   ]
  },
  {
   "cell_type": "markdown",
   "metadata": {},
   "source": [
    "---"
   ]
  },
  {
   "cell_type": "markdown",
   "metadata": {},
   "source": [
    "##### Funciones Buil-in"
   ]
  },
  {
   "cell_type": "markdown",
   "metadata": {},
   "source": [
    "El intérprete de Python tiene una serie de funciones y tipos incluidos en él que están siempre disponibles\n",
    "\n",
    "Ya vimos algunas, recuerdan cuales?"
   ]
  },
  {
   "cell_type": "markdown",
   "metadata": {},
   "source": [
    "```python\n",
    "print() # Imprime en pantalla\n",
    "int()   # convierte un valor a entero\n",
    "str()   # convierte un valor a string\n",
    "len()   # devuelve el largo de una secuencia (por ahora)\n",
    "```"
   ]
  },
  {
   "cell_type": "markdown",
   "metadata": {},
   "source": [
    "los valores que les pasamos a una función se donominan argumentos, pueden ser uno, varios o ninguno, dependiendo la función.\n",
    "Los argumentos se escriben entre paréntesis y si no hay arguementos se escriben los paréntisis solos:"
   ]
  },
  {
   "cell_type": "code",
   "execution_count": 9,
   "metadata": {},
   "outputs": [
    {
     "name": "stdout",
     "output_type": "stream",
     "text": [
      "1 comienzo.\n",
      "\n",
      "final\n"
     ]
    }
   ],
   "source": [
    "print(1, \"comienzo.\")  # Dos argumentos\n",
    "print()                # Ningun argumento\n",
    "print(\"final\")         # Un argumento"
   ]
  },
  {
   "cell_type": "markdown",
   "metadata": {},
   "source": [
    "las funciones en python devuelven/retornan valores, esos valores en general pueden:\n"
   ]
  },
  {
   "cell_type": "code",
   "execution_count": null,
   "metadata": {},
   "outputs": [],
   "source": []
  },
  {
   "cell_type": "code",
   "execution_count": 35,
   "metadata": {},
   "outputs": [
    {
     "name": "stdout",
     "output_type": "stream",
     "text": [
      "largo de la secuencia 7\n"
     ]
    },
    {
     "data": {
      "text/plain": [
       "7.0"
      ]
     },
     "execution_count": 35,
     "metadata": {},
     "output_type": "execute_result"
    }
   ],
   "source": [
    "seq = 'ATGGCGT'\n",
    "\n",
    "len(seq) # la funcion len devuelve 7, si no hacemos nada con eso, ese valor se pierde\n",
    "\n",
    "print('largo de la secuencia', len(seq)) # imprime en pantalla\n",
    "largo = len('ATGGCGT')                   # guarda en otra variable\n",
    "float(len(seq))                          # se lo pasa como argumento a otra funcion"
   ]
  },
  {
   "cell_type": "markdown",
   "metadata": {},
   "source": []
  },
  {
   "cell_type": "code",
   "execution_count": 20,
   "metadata": {},
   "outputs": [
    {
     "name": "stdout",
     "output_type": "stream",
     "text": [
      "ATGGCGT\n"
     ]
    }
   ],
   "source": [
    "# Que pasa con esto?\n",
    "largo = print(seq)"
   ]
  },
  {
   "cell_type": "code",
   "execution_count": null,
   "metadata": {},
   "outputs": [],
   "source": []
  },
  {
   "cell_type": "code",
   "execution_count": null,
   "metadata": {},
   "outputs": [],
   "source": []
  },
  {
   "cell_type": "markdown",
   "metadata": {},
   "source": [
    "Más funciones built-in usadas regularmente:\n",
    "```python\n",
    "max()\n",
    "abs()\n",
    "```"
   ]
  },
  {
   "cell_type": "code",
   "execution_count": 41,
   "metadata": {},
   "outputs": [
    {
     "name": "stdout",
     "output_type": "stream",
     "text": [
      "100\n",
      "4.29\n"
     ]
    }
   ],
   "source": [
    "print(max(100, 30))\n",
    "\n",
    "print(abs(-4.29))"
   ]
  },
  {
   "cell_type": "code",
   "execution_count": null,
   "metadata": {},
   "outputs": [],
   "source": [
    "el comportamiento y lo que devuelve una función depende de los argumentos:"
   ]
  },
  {
   "cell_type": "code",
   "execution_count": 36,
   "metadata": {},
   "outputs": [
    {
     "name": "stdout",
     "output_type": "stream",
     "text": [
      "2300.0\n",
      "61\n",
      "m\n"
     ]
    }
   ],
   "source": [
    "print(max(12,3,61, 2.3e3)) # Devuelve un float\n",
    "print(max(12,3,61, 8))     # Devuelve un integer\n",
    "print(max('B', 'A', \"H\", 'm', 'M'))       # ?? Devuelve un string"
   ]
  },
  {
   "cell_type": "markdown",
   "metadata": {},
   "source": [
    "Qué pasa si ejecutamos el siguiente código\n",
    "```python\n",
    "max(3, 'A')\n",
    "```\n",
    "\n"
   ]
  },
  {
   "cell_type": "markdown",
   "metadata": {},
   "source": [
    "---"
   ]
  },
  {
   "cell_type": "markdown",
   "metadata": {},
   "source": [
    "#### Errores"
   ]
  },
  {
   "cell_type": "markdown",
   "metadata": {},
   "source": [
    "Los errores al escribir códigos son inevitables y pasan **todo** el tiempo.\n",
    "Es muy común al hacer los primeros pasos programando que los errores nos ~~den ganas de romper todo~~ desmotiven.\n",
    "Luego, con práctica y años lo más común es que los errores ~~nos sigan dando ganas de romper todo~~ los veamos como parte normal del desarrollo.\n",
    "\n",
    "Seguramente ya nos equivocamos es cuestion de tiempo...\n",
    "\n",
    "Algunos errores comunes que suelen pasar todo el tiempo:"
   ]
  },
  {
   "cell_type": "code",
   "execution_count": 44,
   "metadata": {},
   "outputs": [
    {
     "ename": "SyntaxError",
     "evalue": "EOL while scanning string literal (<ipython-input-44-c18a5d7b6629>, line 1)",
     "output_type": "error",
     "traceback": [
      "\u001b[0;36m  File \u001b[0;32m\"<ipython-input-44-c18a5d7b6629>\"\u001b[0;36m, line \u001b[0;32m1\u001b[0m\n\u001b[0;31m    texto = \"Python\u001b[0m\n\u001b[0m                   ^\u001b[0m\n\u001b[0;31mSyntaxError\u001b[0m\u001b[0;31m:\u001b[0m EOL while scanning string literal\n"
     ]
    }
   ],
   "source": [
    "texto = \"Python"
   ]
  },
  {
   "cell_type": "code",
   "execution_count": 45,
   "metadata": {},
   "outputs": [
    {
     "ename": "NameError",
     "evalue": "name 'TEXTO' is not defined",
     "output_type": "error",
     "traceback": [
      "\u001b[0;31m---------------------------------------------------------------------------\u001b[0m",
      "\u001b[0;31mNameError\u001b[0m                                 Traceback (most recent call last)",
      "\u001b[0;32m<ipython-input-45-771c08338beb>\u001b[0m in \u001b[0;36m<module>\u001b[0;34m\u001b[0m\n\u001b[0;32m----> 1\u001b[0;31m \u001b[0mprint\u001b[0m\u001b[0;34m(\u001b[0m\u001b[0mTEXTO\u001b[0m\u001b[0;34m)\u001b[0m\u001b[0;34m\u001b[0m\u001b[0;34m\u001b[0m\u001b[0m\n\u001b[0m",
      "\u001b[0;31mNameError\u001b[0m: name 'TEXTO' is not defined"
     ]
    }
   ],
   "source": [
    "print(TEXTO)"
   ]
  },
  {
   "cell_type": "code",
   "execution_count": 50,
   "metadata": {},
   "outputs": [
    {
     "ename": "IndexError",
     "evalue": "string index out of range",
     "output_type": "error",
     "traceback": [
      "\u001b[0;31m---------------------------------------------------------------------------\u001b[0m",
      "\u001b[0;31mIndexError\u001b[0m                                Traceback (most recent call last)",
      "\u001b[0;32m<ipython-input-50-2ed3fd604f89>\u001b[0m in \u001b[0;36m<module>\u001b[0;34m\u001b[0m\n\u001b[1;32m      1\u001b[0m \u001b[0mtexto\u001b[0m \u001b[0;34m=\u001b[0m \u001b[0;34m'Python'\u001b[0m\u001b[0;34m\u001b[0m\u001b[0;34m\u001b[0m\u001b[0m\n\u001b[0;32m----> 2\u001b[0;31m \u001b[0mtexto\u001b[0m\u001b[0;34m[\u001b[0m\u001b[0;36m8\u001b[0m\u001b[0;34m]\u001b[0m\u001b[0;34m\u001b[0m\u001b[0;34m\u001b[0m\u001b[0m\n\u001b[0m",
      "\u001b[0;31mIndexError\u001b[0m: string index out of range"
     ]
    }
   ],
   "source": [
    "texto = 'Python'\n",
    "texto[8]"
   ]
  },
  {
   "cell_type": "code",
   "execution_count": 52,
   "metadata": {},
   "outputs": [
    {
     "ename": "TypeError",
     "evalue": "'str' object does not support item assignment",
     "output_type": "error",
     "traceback": [
      "\u001b[0;31m---------------------------------------------------------------------------\u001b[0m",
      "\u001b[0;31mTypeError\u001b[0m                                 Traceback (most recent call last)",
      "\u001b[0;32m<ipython-input-52-6fefb1e6d122>\u001b[0m in \u001b[0;36m<module>\u001b[0;34m\u001b[0m\n\u001b[1;32m      1\u001b[0m \u001b[0mtexto\u001b[0m \u001b[0;34m=\u001b[0m \u001b[0;34m'Python'\u001b[0m\u001b[0;34m\u001b[0m\u001b[0;34m\u001b[0m\u001b[0m\n\u001b[0;32m----> 2\u001b[0;31m \u001b[0mtexto\u001b[0m\u001b[0;34m[\u001b[0m\u001b[0;36m3\u001b[0m\u001b[0;34m]\u001b[0m \u001b[0;34m=\u001b[0m \u001b[0;34m'H'\u001b[0m\u001b[0;34m\u001b[0m\u001b[0;34m\u001b[0m\u001b[0m\n\u001b[0m",
      "\u001b[0;31mTypeError\u001b[0m: 'str' object does not support item assignment"
     ]
    }
   ],
   "source": [
    "texto = 'Python'\n",
    "texto[3] = 'H'"
   ]
  },
  {
   "cell_type": "markdown",
   "metadata": {},
   "source": [
    "Lo primero que hay que hacer cuando nos encontramos con un error es **leer** qué tipo de error es.\n",
    "Es fundamental no quedarnos con la idea de que \"**algo** no anda\" o \"**algo** está mal\", porque los errores en python son muy informativos y facilitan mucho descubrir qué es lo que estamos haciendo mal.\n",
    "\n",
    "Por ejemplo el primer error:\n",
    "\n",
    "\n",
    "![](https://github.com/Ferorti/escuela2021/raw/main/)\n",
    "\n",
    "\n",
    "\n",
    "La gran mayoría de las veces leyendo el informe del error podemos darnos cuenta de cuál es el problema y corregirlo.\n",
    "\n",
    "\n",
    "~~``texto = \"Python``~~\n",
    "```python\n",
    "texto = \"Python\"\n",
    "\n",
    "```\n",
    "\n",
    "\n",
    "Tomense un rato para entender cual es el problema en cada caso y como se solucionaría (en los casos que se pueda)\n",
    "\n",
    "\n",
    "**No desanimarse**\n",
    "...\n",
    "\n",
    "y pedir ayuda ;)"
   ]
  },
  {
   "cell_type": "markdown",
   "metadata": {},
   "source": [
    "---"
   ]
  },
  {
   "cell_type": "markdown",
   "metadata": {},
   "source": [
    "#### Ayuda en Python"
   ]
  },
  {
   "cell_type": "markdown",
   "metadata": {},
   "source": [
    "Podemos pedir ayuda utilizando la funcion built-in ``help()`` pansando el nombre de la función como argumento"
   ]
  },
  {
   "cell_type": "code",
   "execution_count": 56,
   "metadata": {},
   "outputs": [
    {
     "name": "stdout",
     "output_type": "stream",
     "text": [
      "Help on built-in function print in module builtins:\n",
      "\n",
      "print(...)\n",
      "    print(value, ..., sep=' ', end='\\n', file=sys.stdout, flush=False)\n",
      "    \n",
      "    Prints the values to a stream, or to sys.stdout by default.\n",
      "    Optional keyword arguments:\n",
      "    file:  a file-like object (stream); defaults to the current sys.stdout.\n",
      "    sep:   string inserted between values, default a space.\n",
      "    end:   string appended after the last value, default a newline.\n",
      "    flush: whether to forcibly flush the stream.\n",
      "\n"
     ]
    }
   ],
   "source": [
    "help(print)"
   ]
  },
  {
   "cell_type": "markdown",
   "metadata": {},
   "source": [
    "con ``help(print)`` obtuvimos resumidamente qué hace la función, los argumentos principales que recibe, y una breve descripción de otros argumentos opcionales\n",
    "\n",
    "Algunos editores o entornos de desarrollo pueden agregar herramientas extras a la función help de python para facilitar la búsqueda de información.\n",
    "Por ejemplo, si estamos utilizando notebooks podemos agregar dos signos de interrogación a la función y obtener más ayuda.\n",
    "Tambien podemos apretar ``shift + tab`` dentro del paréntesis, lo que es más dinámico. "
   ]
  },
  {
   "cell_type": "code",
   "execution_count": 64,
   "metadata": {},
   "outputs": [
    {
     "data": {
      "text/plain": [
       "\u001b[0;31mDocstring:\u001b[0m\n",
       "print(value, ..., sep=' ', end='\\n', file=sys.stdout, flush=False)\n",
       "\n",
       "Prints the values to a stream, or to sys.stdout by default.\n",
       "Optional keyword arguments:\n",
       "file:  a file-like object (stream); defaults to the current sys.stdout.\n",
       "sep:   string inserted between values, default a space.\n",
       "end:   string appended after the last value, default a newline.\n",
       "flush: whether to forcibly flush the stream.\n",
       "\u001b[0;31mType:\u001b[0m      builtin_function_or_method\n"
      ]
     },
     "metadata": {},
     "output_type": "display_data"
    }
   ],
   "source": [
    "??print"
   ]
  },
  {
   "cell_type": "code",
   "execution_count": null,
   "metadata": {},
   "outputs": [],
   "source": [
    "print()"
   ]
  },
  {
   "cell_type": "markdown",
   "metadata": {},
   "source": [
    "Y por supuesto...\n",
    "\n",
    "Nadie ... Programa ... Sin ... StackOverflow\n",
    "\n",
    "[![Search on StaackOverflow](https://digital.hbs.edu/platform-digit/wp-content/uploads/sites/2/2018/03/stack-895x200.png)](https://stackoverflow.com/questions/642154/how-to-convert-strings-into-integers-in-python)\n",
    "\n"
   ]
  },
  {
   "cell_type": "markdown",
   "metadata": {},
   "source": [
    "<iframe\n",
    "    width='80%'\n",
    "    heigth='400'\n",
    "    src=\"www.stackoverflow.com\">\n",
    "</iframe>"
   ]
  },
  {
   "cell_type": "markdown",
   "metadata": {},
   "source": [
    "tomensé un ratito para revisar la ayuda de las funciones que uilizamos hasta ahora.\n",
    "Por ejemplo"
   ]
  },
  {
   "cell_type": "code",
   "execution_count": 80,
   "metadata": {},
   "outputs": [
    {
     "data": {
      "text/plain": [
       "\u001b[0;31mInit signature:\u001b[0m \u001b[0mfloat\u001b[0m\u001b[0;34m(\u001b[0m\u001b[0mx\u001b[0m\u001b[0;34m=\u001b[0m\u001b[0;36m0\u001b[0m\u001b[0;34m,\u001b[0m \u001b[0;34m/\u001b[0m\u001b[0;34m)\u001b[0m\u001b[0;34m\u001b[0m\u001b[0;34m\u001b[0m\u001b[0m\n",
       "\u001b[0;31mDocstring:\u001b[0m      Convert a string or number to a floating point number, if possible.\n",
       "\u001b[0;31mType:\u001b[0m           type\n",
       "\u001b[0;31mSubclasses:\u001b[0m     \n"
      ]
     },
     "metadata": {},
     "output_type": "display_data"
    }
   ],
   "source": [
    "??float"
   ]
  },
  {
   "cell_type": "code",
   "execution_count": null,
   "metadata": {},
   "outputs": [],
   "source": []
  }
 ],
 "metadata": {
  "kernelspec": {
   "display_name": "Python 3",
   "language": "python",
   "name": "python3"
  },
  "language_info": {
   "codemirror_mode": {
    "name": "ipython",
    "version": 3
   },
   "file_extension": ".py",
   "mimetype": "text/x-python",
   "name": "python",
   "nbconvert_exporter": "python",
   "pygments_lexer": "ipython3",
   "version": "3.8.3"
  }
 },
 "nbformat": 4,
 "nbformat_minor": 4
}